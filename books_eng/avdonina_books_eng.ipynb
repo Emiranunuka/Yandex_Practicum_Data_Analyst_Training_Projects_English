{
 "cells": [
  {
   "cell_type": "markdown",
   "metadata": {
    "toc": true
   },
   "source": [
    "<h1>Requests to Books subscription service databases<span class=\"tocSkip\"></span></h1>\n",
    "<div class=\"toc\"><ul class=\"toc-item\"><li><span><a href=\"#Tale-and-aim\" data-toc-modified-id=\"Tale-and-aim-1\"><span class=\"toc-item-num\">1&nbsp;&nbsp;</span>Tale and aim</a></span></li><li><span><a href=\"#Specified-requests\" data-toc-modified-id=\"Specified-requests-2\"><span class=\"toc-item-num\">2&nbsp;&nbsp;</span>Specified requests</a></span></li><li><span><a href=\"#Importing-libraries\" data-toc-modified-id=\"Importing-libraries-3\"><span class=\"toc-item-num\">3&nbsp;&nbsp;</span>Importing libraries</a></span></li><li><span><a href=\"#EDA\" data-toc-modified-id=\"EDA-4\"><span class=\"toc-item-num\">4&nbsp;&nbsp;</span>EDA</a></span><ul class=\"toc-item\"><li><span><a href=\"#books\" data-toc-modified-id=\"books-4.1\"><span class=\"toc-item-num\">4.1&nbsp;&nbsp;</span><code>books</code></a></span></li><li><span><a href=\"#authors\" data-toc-modified-id=\"authors-4.2\"><span class=\"toc-item-num\">4.2&nbsp;&nbsp;</span><code>authors</code></a></span></li><li><span><a href=\"#publishers\" data-toc-modified-id=\"publishers-4.3\"><span class=\"toc-item-num\">4.3&nbsp;&nbsp;</span><code>publishers</code></a></span></li><li><span><a href=\"#ratings\" data-toc-modified-id=\"ratings-4.4\"><span class=\"toc-item-num\">4.4&nbsp;&nbsp;</span><code>ratings</code></a></span></li><li><span><a href=\"#reviews\" data-toc-modified-id=\"reviews-4.5\"><span class=\"toc-item-num\">4.5&nbsp;&nbsp;</span><code>reviews</code></a></span></li><li><span><a href=\"#Conclusions-on-EDA\" data-toc-modified-id=\"Conclusions-on-EDA-4.6\"><span class=\"toc-item-num\">4.6&nbsp;&nbsp;</span>Conclusions on EDA</a></span></li></ul></li><li><span><a href=\"#Performing-the-specified-requests\" data-toc-modified-id=\"Performing-the-specified-requests-5\"><span class=\"toc-item-num\">5&nbsp;&nbsp;</span>Performing the specified requests</a></span><ul class=\"toc-item\"><li><span><a href=\"#Number-of-books,-published-after-January-the-1st,-2000\" data-toc-modified-id=\"Number-of-books,-published-after-January-the-1st,-2000-5.1\"><span class=\"toc-item-num\">5.1&nbsp;&nbsp;</span>Number of books, published after January the 1st, 2000</a></span></li><li><span><a href=\"#Number-of-user-reviews-and-average-user-rating-for-every-book\" data-toc-modified-id=\"Number-of-user-reviews-and-average-user-rating-for-every-book-5.2\"><span class=\"toc-item-num\">5.2&nbsp;&nbsp;</span>Number of user reviews and average user rating for every book</a></span></li><li><span><a href=\"#A-publisher,-which-has-published-the-greatest-number-of-books-containing-more-than-50-pages\" data-toc-modified-id=\"A-publisher,-which-has-published-the-greatest-number-of-books-containing-more-than-50-pages-5.3\"><span class=\"toc-item-num\">5.3&nbsp;&nbsp;</span>A publisher, which has published the greatest number of books containing more than 50 pages</a></span></li><li><span><a href=\"#An-author-who-got-the-highest-average-user-rating---to-consider-only-the-books-with-50-and-more-ratings)\" data-toc-modified-id=\"An-author-who-got-the-highest-average-user-rating---to-consider-only-the-books-with-50-and-more-ratings)-5.4\"><span class=\"toc-item-num\">5.4&nbsp;&nbsp;</span>An author who got the highest average user rating - to consider only the books with 50 and more ratings)</a></span></li><li><span><a href=\"#An-average-number-of-reviews-from-users-who-gave-more-than-50-ratings\" data-toc-modified-id=\"An-average-number-of-reviews-from-users-who-gave-more-than-50-ratings-5.5\"><span class=\"toc-item-num\">5.5&nbsp;&nbsp;</span>An average number of reviews from users who gave more than 50 ratings</a></span></li></ul></li><li><span><a href=\"#Conclusions\" data-toc-modified-id=\"Conclusions-6\"><span class=\"toc-item-num\">6&nbsp;&nbsp;</span>Conclusions</a></span></li></ul></div>"
   ]
  },
  {
   "cell_type": "markdown",
   "metadata": {},
   "source": [
    "Start <a class=\"anchor\" id=\"100-bullet\"></a>"
   ]
  },
  {
   "cell_type": "markdown",
   "metadata": {},
   "source": [
    "## Tale and aim"
   ]
  },
  {
   "cell_type": "markdown",
   "metadata": {},
   "source": [
    "The coronavirus took the world off guard, changing the usual order of things. In their free time city dwellers no longer go out, do not visit cafes and shopping centers. But there is more time for books. Startups noticed this - and rushed to create applications for those who like to read.\n",
    "A company decided to be on the wave and bought a major subscription book reading service. \n",
    "The job now is to analyze its database. The datasets contain information about books, publishers, authors, user reviews and user ratings of books. Getting data by specified requests should help the company to formulate a value proposition for service's promotion."
   ]
  },
  {
   "cell_type": "markdown",
   "metadata": {},
   "source": [
    "## Specified requests"
   ]
  },
  {
   "cell_type": "markdown",
   "metadata": {},
   "source": [
    "1. To count number of books, published after January the 1st, 2000;\n",
    "2. To count number of user reviews and average user rating for every book;\n",
    "3. To determine a publisher, which has published the greatest number of books containing more than 50 pages (to exclude brochures from analysis);\n",
    "4. To determine an author who got the highest average user rating - to consider only the books with 50 and more ratings;\n",
    "5. To calculate an average number of reviews from users who gave more than 50 ratings.\n",
    "\n",
    "\n",
    "NOTA BENE: The term of the tasks - to get requied data only by means of SQL and to perform only one SQL-request per task. Pandas is allowed only for data preprocessing, displaying and storing results."
   ]
  },
  {
   "cell_type": "markdown",
   "metadata": {},
   "source": [
    "## Importing libraries"
   ]
  },
  {
   "cell_type": "code",
   "execution_count": 1,
   "metadata": {},
   "outputs": [],
   "source": [
    "import pandas as pd\n",
    "from sqlalchemy import create_engine"
   ]
  },
  {
   "cell_type": "code",
   "execution_count": 2,
   "metadata": {},
   "outputs": [],
   "source": [
    "# setting parameters\n",
    "db_config = {'user': 'praktikum_student', # login\n",
    "'pwd': 'Sdf4$2;d-d30pp', # password\n",
    "'host': 'rc1b-wcoijxj3yxfsf3fs.mdb.yandexcloud.net',\n",
    "'port': 6432, # port of connection\n",
    "'db': 'data-analyst-final-project-db'} # database's name\n",
    "connection_string = 'postgresql://{}:{}@{}:{}/{}'.format(\n",
    "db_config['user'],\n",
    "db_config['pwd'],\n",
    "db_config['host'],\n",
    "db_config['port'],\n",
    "db_config['db'])\n",
    "\n",
    "# saving the connector\n",
    "engine = create_engine(connection_string, connect_args={'sslmode':'require'})"
   ]
  },
  {
   "cell_type": "markdown",
   "metadata": {},
   "source": [
    "[Come back to Start](#100-bullet)"
   ]
  },
  {
   "cell_type": "markdown",
   "metadata": {},
   "source": [
    "## EDA"
   ]
  },
  {
   "cell_type": "code",
   "execution_count": 34,
   "metadata": {},
   "outputs": [],
   "source": [
    "# make a function for reading sql\n",
    "def read_sql(query):\n",
    "    result = pd.io.sql.read_sql(query, con = engine)\n",
    "    return result"
   ]
  },
  {
   "cell_type": "markdown",
   "metadata": {},
   "source": [
    "Let's look into the first rows of the tables and consider if any preprocessing's needed."
   ]
  },
  {
   "cell_type": "markdown",
   "metadata": {},
   "source": [
    "### `books`"
   ]
  },
  {
   "cell_type": "code",
   "execution_count": 35,
   "metadata": {},
   "outputs": [
    {
     "data": {
      "text/html": [
       "<div>\n",
       "<style scoped>\n",
       "    .dataframe tbody tr th:only-of-type {\n",
       "        vertical-align: middle;\n",
       "    }\n",
       "\n",
       "    .dataframe tbody tr th {\n",
       "        vertical-align: top;\n",
       "    }\n",
       "\n",
       "    .dataframe thead th {\n",
       "        text-align: right;\n",
       "    }\n",
       "</style>\n",
       "<table border=\"1\" class=\"dataframe\">\n",
       "  <thead>\n",
       "    <tr style=\"text-align: right;\">\n",
       "      <th></th>\n",
       "      <th>book_id</th>\n",
       "      <th>author_id</th>\n",
       "      <th>title</th>\n",
       "      <th>num_pages</th>\n",
       "      <th>publication_date</th>\n",
       "      <th>publisher_id</th>\n",
       "    </tr>\n",
       "  </thead>\n",
       "  <tbody>\n",
       "    <tr>\n",
       "      <th>0</th>\n",
       "      <td>1</td>\n",
       "      <td>546</td>\n",
       "      <td>'Salem's Lot</td>\n",
       "      <td>594</td>\n",
       "      <td>2005-11-01</td>\n",
       "      <td>93</td>\n",
       "    </tr>\n",
       "    <tr>\n",
       "      <th>1</th>\n",
       "      <td>2</td>\n",
       "      <td>465</td>\n",
       "      <td>1 000 Places to See Before You Die</td>\n",
       "      <td>992</td>\n",
       "      <td>2003-05-22</td>\n",
       "      <td>336</td>\n",
       "    </tr>\n",
       "    <tr>\n",
       "      <th>2</th>\n",
       "      <td>3</td>\n",
       "      <td>407</td>\n",
       "      <td>13 Little Blue Envelopes (Little Blue Envelope...</td>\n",
       "      <td>322</td>\n",
       "      <td>2010-12-21</td>\n",
       "      <td>135</td>\n",
       "    </tr>\n",
       "    <tr>\n",
       "      <th>3</th>\n",
       "      <td>4</td>\n",
       "      <td>82</td>\n",
       "      <td>1491: New Revelations of the Americas Before C...</td>\n",
       "      <td>541</td>\n",
       "      <td>2006-10-10</td>\n",
       "      <td>309</td>\n",
       "    </tr>\n",
       "    <tr>\n",
       "      <th>4</th>\n",
       "      <td>5</td>\n",
       "      <td>125</td>\n",
       "      <td>1776</td>\n",
       "      <td>386</td>\n",
       "      <td>2006-07-04</td>\n",
       "      <td>268</td>\n",
       "    </tr>\n",
       "  </tbody>\n",
       "</table>\n",
       "</div>"
      ],
      "text/plain": [
       "   book_id  author_id                                              title  \\\n",
       "0        1        546                                       'Salem's Lot   \n",
       "1        2        465                 1 000 Places to See Before You Die   \n",
       "2        3        407  13 Little Blue Envelopes (Little Blue Envelope...   \n",
       "3        4         82  1491: New Revelations of the Americas Before C...   \n",
       "4        5        125                                               1776   \n",
       "\n",
       "   num_pages publication_date  publisher_id  \n",
       "0        594       2005-11-01            93  \n",
       "1        992       2003-05-22           336  \n",
       "2        322       2010-12-21           135  \n",
       "3        541       2006-10-10           309  \n",
       "4        386       2006-07-04           268  "
      ]
     },
     "execution_count": 35,
     "metadata": {},
     "output_type": "execute_result"
    }
   ],
   "source": [
    "# download first 5 rows from `books` dataset\n",
    "query_1 = '''\n",
    "select *\n",
    "from books\n",
    "limit 5;\n",
    "'''\n",
    "read_sql(query_1)"
   ]
  },
  {
   "cell_type": "markdown",
   "metadata": {},
   "source": [
    "Words in column `title` are written in different registers - this might cause duplicates."
   ]
  },
  {
   "cell_type": "code",
   "execution_count": 36,
   "metadata": {},
   "outputs": [
    {
     "data": {
      "text/html": [
       "<div>\n",
       "<style scoped>\n",
       "    .dataframe tbody tr th:only-of-type {\n",
       "        vertical-align: middle;\n",
       "    }\n",
       "\n",
       "    .dataframe tbody tr th {\n",
       "        vertical-align: top;\n",
       "    }\n",
       "\n",
       "    .dataframe thead th {\n",
       "        text-align: right;\n",
       "    }\n",
       "</style>\n",
       "<table border=\"1\" class=\"dataframe\">\n",
       "  <thead>\n",
       "    <tr style=\"text-align: right;\">\n",
       "      <th></th>\n",
       "      <th>count</th>\n",
       "    </tr>\n",
       "  </thead>\n",
       "  <tbody>\n",
       "    <tr>\n",
       "      <th>0</th>\n",
       "      <td>1000</td>\n",
       "    </tr>\n",
       "  </tbody>\n",
       "</table>\n",
       "</div>"
      ],
      "text/plain": [
       "   count\n",
       "0   1000"
      ]
     },
     "execution_count": 36,
     "metadata": {},
     "output_type": "execute_result"
    }
   ],
   "source": [
    "# how big is `books` dataset\n",
    "query_2 = '''\n",
    "select count (*) \n",
    "from books;\n",
    "'''\n",
    "read_sql(query_2)"
   ]
  },
  {
   "cell_type": "markdown",
   "metadata": {},
   "source": [
    "The dataset `books` contains 1000 rows and 6 columns:\n",
    "- `book_id` — identifier of a book;\n",
    "- `author_id` — identifier of an author;\n",
    "- `title` — book's title;\n",
    "- `num_pages` — number of pages;\n",
    "- `publication_date` — date of book's publication;\n",
    "- `publisher_id` — identifier of a publisher."
   ]
  },
  {
   "cell_type": "markdown",
   "metadata": {},
   "source": [
    "Let's check duplicates through counting unique `book_id` and unique `title` (make request for lower register), as well count unique `author_id` and unique `publisher_id`."
   ]
  },
  {
   "cell_type": "code",
   "execution_count": 47,
   "metadata": {},
   "outputs": [
    {
     "data": {
      "text/html": [
       "<div>\n",
       "<style scoped>\n",
       "    .dataframe tbody tr th:only-of-type {\n",
       "        vertical-align: middle;\n",
       "    }\n",
       "\n",
       "    .dataframe tbody tr th {\n",
       "        vertical-align: top;\n",
       "    }\n",
       "\n",
       "    .dataframe thead th {\n",
       "        text-align: right;\n",
       "    }\n",
       "</style>\n",
       "<table border=\"1\" class=\"dataframe\">\n",
       "  <thead>\n",
       "    <tr style=\"text-align: right;\">\n",
       "      <th></th>\n",
       "      <th>book_id_uniq_cnt</th>\n",
       "      <th>title_uniq_cnt</th>\n",
       "      <th>author_id_uniq_cnt</th>\n",
       "      <th>publisher_id_uniq_cnt</th>\n",
       "    </tr>\n",
       "  </thead>\n",
       "  <tbody>\n",
       "    <tr>\n",
       "      <th>0</th>\n",
       "      <td>1000</td>\n",
       "      <td>999</td>\n",
       "      <td>636</td>\n",
       "      <td>340</td>\n",
       "    </tr>\n",
       "  </tbody>\n",
       "</table>\n",
       "</div>"
      ],
      "text/plain": [
       "   book_id_uniq_cnt  title_uniq_cnt  author_id_uniq_cnt  publisher_id_uniq_cnt\n",
       "0              1000             999                 636                    340"
      ]
     },
     "execution_count": 47,
     "metadata": {},
     "output_type": "execute_result"
    }
   ],
   "source": [
    "query_3 = '''\n",
    "select count (distinct book_id) as book_id_uniq_cnt\n",
    "    , count (distinct lower (title)) as title_uniq_cnt\n",
    "    , count (distinct author_id) as author_id_uniq_cnt\n",
    "    , count (distinct publisher_id) as publisher_id_uniq_cnt\n",
    "from books;\n",
    "            '''\n",
    "read_sql(query_3)"
   ]
  },
  {
   "cell_type": "markdown",
   "metadata": {},
   "source": [
    "The dataset `books`contains info on 1000 books written by 636 authors and published by 340 publishers. Seems, two books in the dataset have a same title. Let's check if the books with same title are duplicates or various publications."
   ]
  },
  {
   "cell_type": "code",
   "execution_count": 71,
   "metadata": {},
   "outputs": [
    {
     "data": {
      "text/html": [
       "<div>\n",
       "<style scoped>\n",
       "    .dataframe tbody tr th:only-of-type {\n",
       "        vertical-align: middle;\n",
       "    }\n",
       "\n",
       "    .dataframe tbody tr th {\n",
       "        vertical-align: top;\n",
       "    }\n",
       "\n",
       "    .dataframe thead th {\n",
       "        text-align: right;\n",
       "    }\n",
       "</style>\n",
       "<table border=\"1\" class=\"dataframe\">\n",
       "  <thead>\n",
       "    <tr style=\"text-align: right;\">\n",
       "      <th></th>\n",
       "      <th>book_id</th>\n",
       "      <th>author_id</th>\n",
       "      <th>title</th>\n",
       "      <th>num_pages</th>\n",
       "      <th>publication_date</th>\n",
       "      <th>publisher_id</th>\n",
       "    </tr>\n",
       "  </thead>\n",
       "  <tbody>\n",
       "    <tr>\n",
       "      <th>0</th>\n",
       "      <td>426</td>\n",
       "      <td>39</td>\n",
       "      <td>Memoirs of a Geisha</td>\n",
       "      <td>434</td>\n",
       "      <td>2005-11-15</td>\n",
       "      <td>241</td>\n",
       "    </tr>\n",
       "    <tr>\n",
       "      <th>1</th>\n",
       "      <td>427</td>\n",
       "      <td>39</td>\n",
       "      <td>Memoirs of a Geisha</td>\n",
       "      <td>503</td>\n",
       "      <td>2005-11-22</td>\n",
       "      <td>311</td>\n",
       "    </tr>\n",
       "  </tbody>\n",
       "</table>\n",
       "</div>"
      ],
      "text/plain": [
       "   book_id  author_id                title  num_pages publication_date  \\\n",
       "0      426         39  Memoirs of a Geisha        434       2005-11-15   \n",
       "1      427         39  Memoirs of a Geisha        503       2005-11-22   \n",
       "\n",
       "   publisher_id  \n",
       "0           241  \n",
       "1           311  "
      ]
     },
     "execution_count": 71,
     "metadata": {},
     "output_type": "execute_result"
    }
   ],
   "source": [
    "# having selected only repepeating books' titles in the subquery we take out from the `books` dataset all data on these \n",
    "# books' titles\n",
    "query_4 = '''\n",
    "select *\n",
    "from books\n",
    "where lower (title) in (\n",
    "select sub.title\n",
    "from (\n",
    "select lower (title) as title\n",
    "    , count (lower (title)) as title_cnt\n",
    "from books\n",
    "group by lower (title)\n",
    "having count (lower (title)) > 1) as sub\n",
    ");\n",
    "                        '''\n",
    "read_sql(query_4)"
   ]
  },
  {
   "cell_type": "markdown",
   "metadata": {},
   "source": [
    "Yes, the dataset `books` contains two publications of the book \"Memoirs of a Geisha\", performed by two publishers -  these are not duplicates."
   ]
  },
  {
   "cell_type": "markdown",
   "metadata": {},
   "source": [
    "[Come back to Start](#100-bullet)"
   ]
  },
  {
   "cell_type": "markdown",
   "metadata": {},
   "source": [
    "### `authors`"
   ]
  },
  {
   "cell_type": "code",
   "execution_count": 10,
   "metadata": {},
   "outputs": [
    {
     "data": {
      "text/html": [
       "<div>\n",
       "<style scoped>\n",
       "    .dataframe tbody tr th:only-of-type {\n",
       "        vertical-align: middle;\n",
       "    }\n",
       "\n",
       "    .dataframe tbody tr th {\n",
       "        vertical-align: top;\n",
       "    }\n",
       "\n",
       "    .dataframe thead th {\n",
       "        text-align: right;\n",
       "    }\n",
       "</style>\n",
       "<table border=\"1\" class=\"dataframe\">\n",
       "  <thead>\n",
       "    <tr style=\"text-align: right;\">\n",
       "      <th></th>\n",
       "      <th>author_id</th>\n",
       "      <th>author</th>\n",
       "    </tr>\n",
       "  </thead>\n",
       "  <tbody>\n",
       "    <tr>\n",
       "      <th>0</th>\n",
       "      <td>1</td>\n",
       "      <td>A.S. Byatt</td>\n",
       "    </tr>\n",
       "    <tr>\n",
       "      <th>1</th>\n",
       "      <td>2</td>\n",
       "      <td>Aesop/Laura Harris/Laura Gibbs</td>\n",
       "    </tr>\n",
       "    <tr>\n",
       "      <th>2</th>\n",
       "      <td>3</td>\n",
       "      <td>Agatha Christie</td>\n",
       "    </tr>\n",
       "    <tr>\n",
       "      <th>3</th>\n",
       "      <td>4</td>\n",
       "      <td>Alan Brennert</td>\n",
       "    </tr>\n",
       "    <tr>\n",
       "      <th>4</th>\n",
       "      <td>5</td>\n",
       "      <td>Alan Moore/David   Lloyd</td>\n",
       "    </tr>\n",
       "  </tbody>\n",
       "</table>\n",
       "</div>"
      ],
      "text/plain": [
       "   author_id                          author\n",
       "0          1                      A.S. Byatt\n",
       "1          2  Aesop/Laura Harris/Laura Gibbs\n",
       "2          3                 Agatha Christie\n",
       "3          4                   Alan Brennert\n",
       "4          5        Alan Moore/David   Lloyd"
      ]
     },
     "execution_count": 10,
     "metadata": {},
     "output_type": "execute_result"
    }
   ],
   "source": [
    "# download first 5 rows from `authors` dataset\n",
    "query_5 = ''' \n",
    "select * \n",
    "from authors \n",
    "limit 5;\n",
    "'''\n",
    "read_sql(query_5)"
   ]
  },
  {
   "cell_type": "markdown",
   "metadata": {},
   "source": [
    "The same thing with different registers in `author` column."
   ]
  },
  {
   "cell_type": "code",
   "execution_count": 72,
   "metadata": {
    "scrolled": true
   },
   "outputs": [
    {
     "data": {
      "text/html": [
       "<div>\n",
       "<style scoped>\n",
       "    .dataframe tbody tr th:only-of-type {\n",
       "        vertical-align: middle;\n",
       "    }\n",
       "\n",
       "    .dataframe tbody tr th {\n",
       "        vertical-align: top;\n",
       "    }\n",
       "\n",
       "    .dataframe thead th {\n",
       "        text-align: right;\n",
       "    }\n",
       "</style>\n",
       "<table border=\"1\" class=\"dataframe\">\n",
       "  <thead>\n",
       "    <tr style=\"text-align: right;\">\n",
       "      <th></th>\n",
       "      <th>count</th>\n",
       "    </tr>\n",
       "  </thead>\n",
       "  <tbody>\n",
       "    <tr>\n",
       "      <th>0</th>\n",
       "      <td>636</td>\n",
       "    </tr>\n",
       "  </tbody>\n",
       "</table>\n",
       "</div>"
      ],
      "text/plain": [
       "   count\n",
       "0    636"
      ]
     },
     "execution_count": 72,
     "metadata": {},
     "output_type": "execute_result"
    }
   ],
   "source": [
    "# how big is `authors` dataset\n",
    "query_6 = '''\n",
    "select count (*) \n",
    "from authors;\n",
    "'''\n",
    "read_sql(query_6)"
   ]
  },
  {
   "cell_type": "markdown",
   "metadata": {},
   "source": [
    "The dataset `authors` contains 636 rows (coincides with number of unique `author_id` in `books`-dataset) and 2 columns:\n",
    "- `author_id` — identifier of an author;\n",
    "- `author` — author's name."
   ]
  },
  {
   "cell_type": "code",
   "execution_count": 73,
   "metadata": {},
   "outputs": [
    {
     "data": {
      "text/html": [
       "<div>\n",
       "<style scoped>\n",
       "    .dataframe tbody tr th:only-of-type {\n",
       "        vertical-align: middle;\n",
       "    }\n",
       "\n",
       "    .dataframe tbody tr th {\n",
       "        vertical-align: top;\n",
       "    }\n",
       "\n",
       "    .dataframe thead th {\n",
       "        text-align: right;\n",
       "    }\n",
       "</style>\n",
       "<table border=\"1\" class=\"dataframe\">\n",
       "  <thead>\n",
       "    <tr style=\"text-align: right;\">\n",
       "      <th></th>\n",
       "      <th>author_id_uniq_cnt</th>\n",
       "      <th>author_uniq_cnt</th>\n",
       "    </tr>\n",
       "  </thead>\n",
       "  <tbody>\n",
       "    <tr>\n",
       "      <th>0</th>\n",
       "      <td>636</td>\n",
       "      <td>636</td>\n",
       "    </tr>\n",
       "  </tbody>\n",
       "</table>\n",
       "</div>"
      ],
      "text/plain": [
       "   author_id_uniq_cnt  author_uniq_cnt\n",
       "0                 636              636"
      ]
     },
     "execution_count": 73,
     "metadata": {},
     "output_type": "execute_result"
    }
   ],
   "source": [
    "# let's count unique authors' names, using `lower` for register-issue's neutralization\n",
    "query_7 = '''\n",
    "select count (distinct author_id) as author_id_uniq_cnt\n",
    "    , count (distinct lower (author)) as author_uniq_cnt\n",
    "from authors;\n",
    "            '''\n",
    "read_sql(query_7)"
   ]
  },
  {
   "cell_type": "markdown",
   "metadata": {},
   "source": [
    "There're no duplicates revealed in the table `books`."
   ]
  },
  {
   "cell_type": "markdown",
   "metadata": {},
   "source": [
    "[Come back to Start](#100-bullet)"
   ]
  },
  {
   "cell_type": "markdown",
   "metadata": {},
   "source": [
    "### `publishers`"
   ]
  },
  {
   "cell_type": "code",
   "execution_count": 74,
   "metadata": {},
   "outputs": [
    {
     "data": {
      "text/html": [
       "<div>\n",
       "<style scoped>\n",
       "    .dataframe tbody tr th:only-of-type {\n",
       "        vertical-align: middle;\n",
       "    }\n",
       "\n",
       "    .dataframe tbody tr th {\n",
       "        vertical-align: top;\n",
       "    }\n",
       "\n",
       "    .dataframe thead th {\n",
       "        text-align: right;\n",
       "    }\n",
       "</style>\n",
       "<table border=\"1\" class=\"dataframe\">\n",
       "  <thead>\n",
       "    <tr style=\"text-align: right;\">\n",
       "      <th></th>\n",
       "      <th>publisher_id</th>\n",
       "      <th>publisher</th>\n",
       "    </tr>\n",
       "  </thead>\n",
       "  <tbody>\n",
       "    <tr>\n",
       "      <th>0</th>\n",
       "      <td>1</td>\n",
       "      <td>Ace</td>\n",
       "    </tr>\n",
       "    <tr>\n",
       "      <th>1</th>\n",
       "      <td>2</td>\n",
       "      <td>Ace Book</td>\n",
       "    </tr>\n",
       "    <tr>\n",
       "      <th>2</th>\n",
       "      <td>3</td>\n",
       "      <td>Ace Books</td>\n",
       "    </tr>\n",
       "    <tr>\n",
       "      <th>3</th>\n",
       "      <td>4</td>\n",
       "      <td>Ace Hardcover</td>\n",
       "    </tr>\n",
       "    <tr>\n",
       "      <th>4</th>\n",
       "      <td>5</td>\n",
       "      <td>Addison Wesley Publishing Company</td>\n",
       "    </tr>\n",
       "  </tbody>\n",
       "</table>\n",
       "</div>"
      ],
      "text/plain": [
       "   publisher_id                          publisher\n",
       "0             1                                Ace\n",
       "1             2                           Ace Book\n",
       "2             3                          Ace Books\n",
       "3             4                      Ace Hardcover\n",
       "4             5  Addison Wesley Publishing Company"
      ]
     },
     "execution_count": 74,
     "metadata": {},
     "output_type": "execute_result"
    }
   ],
   "source": [
    "# download first 5 rows from `publishers` dataset\n",
    "query_8 = ''' \n",
    "select * \n",
    "from publishers \n",
    "limit 5;\n",
    "'''\n",
    "read_sql(query_8)"
   ]
  },
  {
   "cell_type": "code",
   "execution_count": 83,
   "metadata": {
    "scrolled": true
   },
   "outputs": [
    {
     "data": {
      "text/html": [
       "<div>\n",
       "<style scoped>\n",
       "    .dataframe tbody tr th:only-of-type {\n",
       "        vertical-align: middle;\n",
       "    }\n",
       "\n",
       "    .dataframe tbody tr th {\n",
       "        vertical-align: top;\n",
       "    }\n",
       "\n",
       "    .dataframe thead th {\n",
       "        text-align: right;\n",
       "    }\n",
       "</style>\n",
       "<table border=\"1\" class=\"dataframe\">\n",
       "  <thead>\n",
       "    <tr style=\"text-align: right;\">\n",
       "      <th></th>\n",
       "      <th>count</th>\n",
       "      <th>publisher_id_uniq_cnt</th>\n",
       "      <th>publisher_uniq_cnt</th>\n",
       "    </tr>\n",
       "  </thead>\n",
       "  <tbody>\n",
       "    <tr>\n",
       "      <th>0</th>\n",
       "      <td>340</td>\n",
       "      <td>340</td>\n",
       "      <td>339</td>\n",
       "    </tr>\n",
       "  </tbody>\n",
       "</table>\n",
       "</div>"
      ],
      "text/plain": [
       "   count  publisher_id_uniq_cnt  publisher_uniq_cnt\n",
       "0    340                    340                 339"
      ]
     },
     "execution_count": 83,
     "metadata": {},
     "output_type": "execute_result"
    }
   ],
   "source": [
    "# check how big is `publishers` dataset and count unique publishers' names, using `lower` for register-issue's neutralization\n",
    "query_9 = '''\n",
    "select count (*) as rows_cnt\n",
    "    , count (distinct publisher_id) as publisher_id_uniq_cnt\n",
    "    , count (distinct lower (publisher)) as publisher_uniq_cnt\n",
    "from publishers;\n",
    "'''\n",
    "read_sql(query_9)"
   ]
  },
  {
   "cell_type": "markdown",
   "metadata": {},
   "source": [
    "The dataset `publishers` contains 340 rows (coincides with number of unique `publisher_id` in `books`dataset) and 2 columns:\n",
    "- `publisher_id` — identifier of a publisher;\n",
    "- `publisher` — publisher's name.\n",
    "\n",
    "And, it seems, there's one duplicate."
   ]
  },
  {
   "cell_type": "code",
   "execution_count": 80,
   "metadata": {},
   "outputs": [
    {
     "data": {
      "text/html": [
       "<div>\n",
       "<style scoped>\n",
       "    .dataframe tbody tr th:only-of-type {\n",
       "        vertical-align: middle;\n",
       "    }\n",
       "\n",
       "    .dataframe tbody tr th {\n",
       "        vertical-align: top;\n",
       "    }\n",
       "\n",
       "    .dataframe thead th {\n",
       "        text-align: right;\n",
       "    }\n",
       "</style>\n",
       "<table border=\"1\" class=\"dataframe\">\n",
       "  <thead>\n",
       "    <tr style=\"text-align: right;\">\n",
       "      <th></th>\n",
       "      <th>publisher_id</th>\n",
       "      <th>publisher</th>\n",
       "    </tr>\n",
       "  </thead>\n",
       "  <tbody>\n",
       "    <tr>\n",
       "      <th>0</th>\n",
       "      <td>30</td>\n",
       "      <td>BALLANTINE BOOKS</td>\n",
       "    </tr>\n",
       "    <tr>\n",
       "      <th>1</th>\n",
       "      <td>33</td>\n",
       "      <td>Ballantine Books</td>\n",
       "    </tr>\n",
       "  </tbody>\n",
       "</table>\n",
       "</div>"
      ],
      "text/plain": [
       "   publisher_id         publisher\n",
       "0            30  BALLANTINE BOOKS\n",
       "1            33  Ballantine Books"
      ]
     },
     "execution_count": 80,
     "metadata": {},
     "output_type": "execute_result"
    }
   ],
   "source": [
    "# having selected only repepeating publishers' names in the subquery we take out from the `publishers`dataset all data\n",
    "# on these repepeating publishers\n",
    "query_11 = '''\n",
    "select *\n",
    "from publishers\n",
    "where lower (publisher) in (\n",
    "select sub.publisher\n",
    "from (\n",
    "select lower (publisher) as publisher\n",
    "    , count (lower (publisher)) as publisher_cnt\n",
    "from publishers\n",
    "group by lower (publisher)\n",
    "having count (lower (publisher)) > 1) as sub\n",
    ");\n",
    "                        '''\n",
    "read_sql(query_11)"
   ]
  },
  {
   "cell_type": "markdown",
   "metadata": {},
   "source": [
    "Let's be aware that we have duplicates for the publisher \"Ballantine Books\": one time the publisher is listed under  `publisher_id` = 30, another time under `publisher_id` = 33. And this is not the publisher which published any of  \"Memoirs of a Geisha\". Another question about \"Ace book\" and \"Ace Books\", is it a typo or there're such different publishers."
   ]
  },
  {
   "cell_type": "markdown",
   "metadata": {},
   "source": [
    "[Come back to Start](#100-bullet)"
   ]
  },
  {
   "cell_type": "markdown",
   "metadata": {},
   "source": [
    "### `ratings`"
   ]
  },
  {
   "cell_type": "code",
   "execution_count": 81,
   "metadata": {},
   "outputs": [
    {
     "data": {
      "text/html": [
       "<div>\n",
       "<style scoped>\n",
       "    .dataframe tbody tr th:only-of-type {\n",
       "        vertical-align: middle;\n",
       "    }\n",
       "\n",
       "    .dataframe tbody tr th {\n",
       "        vertical-align: top;\n",
       "    }\n",
       "\n",
       "    .dataframe thead th {\n",
       "        text-align: right;\n",
       "    }\n",
       "</style>\n",
       "<table border=\"1\" class=\"dataframe\">\n",
       "  <thead>\n",
       "    <tr style=\"text-align: right;\">\n",
       "      <th></th>\n",
       "      <th>rating_id</th>\n",
       "      <th>book_id</th>\n",
       "      <th>username</th>\n",
       "      <th>rating</th>\n",
       "    </tr>\n",
       "  </thead>\n",
       "  <tbody>\n",
       "    <tr>\n",
       "      <th>0</th>\n",
       "      <td>1</td>\n",
       "      <td>1</td>\n",
       "      <td>ryanfranco</td>\n",
       "      <td>4</td>\n",
       "    </tr>\n",
       "    <tr>\n",
       "      <th>1</th>\n",
       "      <td>2</td>\n",
       "      <td>1</td>\n",
       "      <td>grantpatricia</td>\n",
       "      <td>2</td>\n",
       "    </tr>\n",
       "    <tr>\n",
       "      <th>2</th>\n",
       "      <td>3</td>\n",
       "      <td>1</td>\n",
       "      <td>brandtandrea</td>\n",
       "      <td>5</td>\n",
       "    </tr>\n",
       "    <tr>\n",
       "      <th>3</th>\n",
       "      <td>4</td>\n",
       "      <td>2</td>\n",
       "      <td>lorichen</td>\n",
       "      <td>3</td>\n",
       "    </tr>\n",
       "    <tr>\n",
       "      <th>4</th>\n",
       "      <td>5</td>\n",
       "      <td>2</td>\n",
       "      <td>mariokeller</td>\n",
       "      <td>2</td>\n",
       "    </tr>\n",
       "  </tbody>\n",
       "</table>\n",
       "</div>"
      ],
      "text/plain": [
       "   rating_id  book_id       username  rating\n",
       "0          1        1     ryanfranco       4\n",
       "1          2        1  grantpatricia       2\n",
       "2          3        1   brandtandrea       5\n",
       "3          4        2       lorichen       3\n",
       "4          5        2    mariokeller       2"
      ]
     },
     "execution_count": 81,
     "metadata": {},
     "output_type": "execute_result"
    }
   ],
   "source": [
    "# download first 5 rows from `publishers` dataset\n",
    "query_12 = ''' \n",
    "select * \n",
    "from ratings \n",
    "limit 5;\n",
    "'''\n",
    "\n",
    "read_sql(query_12)"
   ]
  },
  {
   "cell_type": "code",
   "execution_count": 90,
   "metadata": {
    "scrolled": true
   },
   "outputs": [
    {
     "data": {
      "text/html": [
       "<div>\n",
       "<style scoped>\n",
       "    .dataframe tbody tr th:only-of-type {\n",
       "        vertical-align: middle;\n",
       "    }\n",
       "\n",
       "    .dataframe tbody tr th {\n",
       "        vertical-align: top;\n",
       "    }\n",
       "\n",
       "    .dataframe thead th {\n",
       "        text-align: right;\n",
       "    }\n",
       "</style>\n",
       "<table border=\"1\" class=\"dataframe\">\n",
       "  <thead>\n",
       "    <tr style=\"text-align: right;\">\n",
       "      <th></th>\n",
       "      <th>rows_cnt</th>\n",
       "      <th>rating_id_uniq_cnt</th>\n",
       "      <th>book_id_uniq_cnt</th>\n",
       "      <th>username_uniq_cnt</th>\n",
       "    </tr>\n",
       "  </thead>\n",
       "  <tbody>\n",
       "    <tr>\n",
       "      <th>0</th>\n",
       "      <td>6456</td>\n",
       "      <td>6456</td>\n",
       "      <td>1000</td>\n",
       "      <td>160</td>\n",
       "    </tr>\n",
       "  </tbody>\n",
       "</table>\n",
       "</div>"
      ],
      "text/plain": [
       "   rows_cnt  rating_id_uniq_cnt  book_id_uniq_cnt  username_uniq_cnt\n",
       "0      6456                6456              1000                160"
      ]
     },
     "execution_count": 90,
     "metadata": {},
     "output_type": "execute_result"
    }
   ],
   "source": [
    "query_13 = '''\n",
    "select count (*) as rows_cnt\n",
    "    , count (distinct rating_id) as rating_id_uniq_cnt\n",
    "    , count (distinct book_id) as book_id_uniq_cnt\n",
    "    , count (distinct lower (username)) as username_uniq_cnt\n",
    "from ratings;\n",
    "'''\n",
    "read_sql(query_13)"
   ]
  },
  {
   "cell_type": "markdown",
   "metadata": {},
   "source": [
    "The dataset `ratings` contains 6456 rows (coincides with number of unique `rating_id`) and 4 columns:\n",
    "- `rating_id` — identifier of a rating;\n",
    "- `book_id` — identifier of a book;\n",
    "- `username` — name of a user giving the rating;\n",
    "- `rating` — rating for a book.\n",
    "\n",
    "Seems, all is ok with register. There're 160 unique users, who gave rating, and all 1000 books have got ratings."
   ]
  },
  {
   "cell_type": "markdown",
   "metadata": {},
   "source": [
    "[Come back to Start](#100-bullet)"
   ]
  },
  {
   "cell_type": "markdown",
   "metadata": {},
   "source": [
    "### `reviews`"
   ]
  },
  {
   "cell_type": "code",
   "execution_count": 87,
   "metadata": {},
   "outputs": [
    {
     "data": {
      "text/html": [
       "<div>\n",
       "<style scoped>\n",
       "    .dataframe tbody tr th:only-of-type {\n",
       "        vertical-align: middle;\n",
       "    }\n",
       "\n",
       "    .dataframe tbody tr th {\n",
       "        vertical-align: top;\n",
       "    }\n",
       "\n",
       "    .dataframe thead th {\n",
       "        text-align: right;\n",
       "    }\n",
       "</style>\n",
       "<table border=\"1\" class=\"dataframe\">\n",
       "  <thead>\n",
       "    <tr style=\"text-align: right;\">\n",
       "      <th></th>\n",
       "      <th>review_id</th>\n",
       "      <th>book_id</th>\n",
       "      <th>username</th>\n",
       "      <th>text</th>\n",
       "    </tr>\n",
       "  </thead>\n",
       "  <tbody>\n",
       "    <tr>\n",
       "      <th>0</th>\n",
       "      <td>1</td>\n",
       "      <td>1</td>\n",
       "      <td>brandtandrea</td>\n",
       "      <td>Mention society tell send professor analysis. ...</td>\n",
       "    </tr>\n",
       "    <tr>\n",
       "      <th>1</th>\n",
       "      <td>2</td>\n",
       "      <td>1</td>\n",
       "      <td>ryanfranco</td>\n",
       "      <td>Foot glass pretty audience hit themselves. Amo...</td>\n",
       "    </tr>\n",
       "    <tr>\n",
       "      <th>2</th>\n",
       "      <td>3</td>\n",
       "      <td>2</td>\n",
       "      <td>lorichen</td>\n",
       "      <td>Listen treat keep worry. Miss husband tax but ...</td>\n",
       "    </tr>\n",
       "    <tr>\n",
       "      <th>3</th>\n",
       "      <td>4</td>\n",
       "      <td>3</td>\n",
       "      <td>johnsonamanda</td>\n",
       "      <td>Finally month interesting blue could nature cu...</td>\n",
       "    </tr>\n",
       "    <tr>\n",
       "      <th>4</th>\n",
       "      <td>5</td>\n",
       "      <td>3</td>\n",
       "      <td>scotttamara</td>\n",
       "      <td>Nation purpose heavy give wait song will. List...</td>\n",
       "    </tr>\n",
       "  </tbody>\n",
       "</table>\n",
       "</div>"
      ],
      "text/plain": [
       "   review_id  book_id       username  \\\n",
       "0          1        1   brandtandrea   \n",
       "1          2        1     ryanfranco   \n",
       "2          3        2       lorichen   \n",
       "3          4        3  johnsonamanda   \n",
       "4          5        3    scotttamara   \n",
       "\n",
       "                                                text  \n",
       "0  Mention society tell send professor analysis. ...  \n",
       "1  Foot glass pretty audience hit themselves. Amo...  \n",
       "2  Listen treat keep worry. Miss husband tax but ...  \n",
       "3  Finally month interesting blue could nature cu...  \n",
       "4  Nation purpose heavy give wait song will. List...  "
      ]
     },
     "execution_count": 87,
     "metadata": {},
     "output_type": "execute_result"
    }
   ],
   "source": [
    "# download first 5 rows from `reviews`  dataset\n",
    "query_14 = ''' \n",
    "select *\n",
    "from reviews \n",
    "limit 5;\n",
    "'''\n",
    "read_sql(query_14)"
   ]
  },
  {
   "cell_type": "code",
   "execution_count": 92,
   "metadata": {
    "scrolled": true
   },
   "outputs": [
    {
     "data": {
      "text/html": [
       "<div>\n",
       "<style scoped>\n",
       "    .dataframe tbody tr th:only-of-type {\n",
       "        vertical-align: middle;\n",
       "    }\n",
       "\n",
       "    .dataframe tbody tr th {\n",
       "        vertical-align: top;\n",
       "    }\n",
       "\n",
       "    .dataframe thead th {\n",
       "        text-align: right;\n",
       "    }\n",
       "</style>\n",
       "<table border=\"1\" class=\"dataframe\">\n",
       "  <thead>\n",
       "    <tr style=\"text-align: right;\">\n",
       "      <th></th>\n",
       "      <th>rows_cnt</th>\n",
       "      <th>review_id_uniq_cnt</th>\n",
       "      <th>book_id_uniq_cnt</th>\n",
       "      <th>username_uniq_cnt</th>\n",
       "      <th>text_uniq_cnt</th>\n",
       "    </tr>\n",
       "  </thead>\n",
       "  <tbody>\n",
       "    <tr>\n",
       "      <th>0</th>\n",
       "      <td>2793</td>\n",
       "      <td>2793</td>\n",
       "      <td>994</td>\n",
       "      <td>160</td>\n",
       "      <td>2793</td>\n",
       "    </tr>\n",
       "  </tbody>\n",
       "</table>\n",
       "</div>"
      ],
      "text/plain": [
       "   rows_cnt  review_id_uniq_cnt  book_id_uniq_cnt  username_uniq_cnt  \\\n",
       "0      2793                2793               994                160   \n",
       "\n",
       "   text_uniq_cnt  \n",
       "0           2793  "
      ]
     },
     "execution_count": 92,
     "metadata": {},
     "output_type": "execute_result"
    }
   ],
   "source": [
    "query_15 = '''\n",
    "select count (*) as rows_cnt\n",
    "    , count (distinct review_id) as review_id_uniq_cnt\n",
    "    , count (distinct book_id) as book_id_uniq_cnt\n",
    "    , count (distinct lower (username)) as username_uniq_cnt\n",
    "    , count (distinct lower (text)) as text_uniq_cnt\n",
    "from reviews;\n",
    "'''\n",
    "read_sql(query_15)"
   ]
  },
  {
   "cell_type": "markdown",
   "metadata": {},
   "source": [
    "The dataset `reviews` contains 2793 rows (coincides with number of unique `review_id`) and 4 columns:\n",
    "- `review_id` — identifier of a review;\n",
    "- `book_id` — identifier of a book;\n",
    "- `username` — name of a user giving the review;\n",
    "- `text` — review's text.\n",
    "\n",
    "Seems, all is ok with register. There're 160 unique users, who wrote reviews, and but not all 1000 books have got them - reviews were given for 994 books. There're no duplicates revealed."
   ]
  },
  {
   "cell_type": "markdown",
   "metadata": {},
   "source": [
    "[Come back to Start](#100-bullet)"
   ]
  },
  {
   "cell_type": "markdown",
   "metadata": {},
   "source": [
    "### Conclusions on EDA"
   ]
  },
  {
   "cell_type": "markdown",
   "metadata": {},
   "source": [
    "The dataset `books`contains info on 1000 books written by 636 authors and published by 340 publishers. There're two publications of the book \"Memoirs of a Geisha\", performed by two publishers, duplicates haven't been revealed.\n",
    "\n",
    "The dataset `authors` contains 636 rows, duplicates haven't been revealed.\n",
    "\n",
    "The dataset `publishers` contains 340 rows. There're revealed duplicates for the publisher \"Ballantine Books\": one time the publisher is listed under `publisher_id` = 30, another time under `publisher_id` = 33. And this is not the publisher which published any of  \"Memoirs of a Geisha\". Another question about \"Ace book\" and \"Ace Books\", is it a typo or there're such different publishers.\n",
    "\n",
    "The dataset `ratings` contains 6456 rows. There're 160 unique users, who gave rating, and all 1000 books have got ratings.\n",
    "\n",
    "The dataset `reviews` contains 2793 rows. There're 160 unique users, who wrote reviews, and but not all 1000 books have got them - reviews were given for 994 books. There're no duplicates revealed."
   ]
  },
  {
   "cell_type": "markdown",
   "metadata": {},
   "source": [
    "[Come back to Start](#100-bullet)"
   ]
  },
  {
   "cell_type": "markdown",
   "metadata": {},
   "source": [
    "## Performing the specified requests"
   ]
  },
  {
   "cell_type": "markdown",
   "metadata": {},
   "source": [
    "### Number of books, published after January the 1st, 2000"
   ]
  },
  {
   "cell_type": "code",
   "execution_count": 94,
   "metadata": {},
   "outputs": [
    {
     "data": {
      "text/html": [
       "<div>\n",
       "<style scoped>\n",
       "    .dataframe tbody tr th:only-of-type {\n",
       "        vertical-align: middle;\n",
       "    }\n",
       "\n",
       "    .dataframe tbody tr th {\n",
       "        vertical-align: top;\n",
       "    }\n",
       "\n",
       "    .dataframe thead th {\n",
       "        text-align: right;\n",
       "    }\n",
       "</style>\n",
       "<table border=\"1\" class=\"dataframe\">\n",
       "  <thead>\n",
       "    <tr style=\"text-align: right;\">\n",
       "      <th></th>\n",
       "      <th>cnt</th>\n",
       "    </tr>\n",
       "  </thead>\n",
       "  <tbody>\n",
       "    <tr>\n",
       "      <th>0</th>\n",
       "      <td>819</td>\n",
       "    </tr>\n",
       "  </tbody>\n",
       "</table>\n",
       "</div>"
      ],
      "text/plain": [
       "   cnt\n",
       "0  819"
      ]
     },
     "execution_count": 94,
     "metadata": {},
     "output_type": "execute_result"
    }
   ],
   "source": [
    "query_16 = '''\n",
    "select \n",
    "    count(book_id) as cnt\n",
    "from books\n",
    "where publication_date > '2000-01-01';\n",
    "'''\n",
    "read_sql(query_16)"
   ]
  },
  {
   "cell_type": "markdown",
   "metadata": {},
   "source": [
    "[Come back to Start](#100-bullet)"
   ]
  },
  {
   "cell_type": "markdown",
   "metadata": {},
   "source": [
    "### Number of user reviews and average user rating for every book"
   ]
  },
  {
   "cell_type": "markdown",
   "metadata": {},
   "source": [
    "Viariant 1"
   ]
  },
  {
   "cell_type": "code",
   "execution_count": 105,
   "metadata": {},
   "outputs": [
    {
     "data": {
      "text/html": [
       "<div>\n",
       "<style scoped>\n",
       "    .dataframe tbody tr th:only-of-type {\n",
       "        vertical-align: middle;\n",
       "    }\n",
       "\n",
       "    .dataframe tbody tr th {\n",
       "        vertical-align: top;\n",
       "    }\n",
       "\n",
       "    .dataframe thead th {\n",
       "        text-align: right;\n",
       "    }\n",
       "</style>\n",
       "<table border=\"1\" class=\"dataframe\">\n",
       "  <thead>\n",
       "    <tr style=\"text-align: right;\">\n",
       "      <th></th>\n",
       "      <th>book_id</th>\n",
       "      <th>title</th>\n",
       "      <th>review_count</th>\n",
       "      <th>avg_rating</th>\n",
       "    </tr>\n",
       "  </thead>\n",
       "  <tbody>\n",
       "    <tr>\n",
       "      <th>0</th>\n",
       "      <td>303</td>\n",
       "      <td>Harvesting the Heart</td>\n",
       "      <td>2.0</td>\n",
       "      <td>1.50</td>\n",
       "    </tr>\n",
       "    <tr>\n",
       "      <th>1</th>\n",
       "      <td>202</td>\n",
       "      <td>Drowning Ruth</td>\n",
       "      <td>3.0</td>\n",
       "      <td>2.00</td>\n",
       "    </tr>\n",
       "    <tr>\n",
       "      <th>2</th>\n",
       "      <td>371</td>\n",
       "      <td>Junky</td>\n",
       "      <td>2.0</td>\n",
       "      <td>2.00</td>\n",
       "    </tr>\n",
       "    <tr>\n",
       "      <th>3</th>\n",
       "      <td>316</td>\n",
       "      <td>His Excellency: George Washington</td>\n",
       "      <td>2.0</td>\n",
       "      <td>2.00</td>\n",
       "    </tr>\n",
       "    <tr>\n",
       "      <th>4</th>\n",
       "      <td>915</td>\n",
       "      <td>The World Is Flat: A Brief History of the Twen...</td>\n",
       "      <td>3.0</td>\n",
       "      <td>2.25</td>\n",
       "    </tr>\n",
       "    <tr>\n",
       "      <th>...</th>\n",
       "      <td>...</td>\n",
       "      <td>...</td>\n",
       "      <td>...</td>\n",
       "      <td>...</td>\n",
       "    </tr>\n",
       "    <tr>\n",
       "      <th>995</th>\n",
       "      <td>182</td>\n",
       "      <td>Dead Souls</td>\n",
       "      <td>2.0</td>\n",
       "      <td>5.00</td>\n",
       "    </tr>\n",
       "    <tr>\n",
       "      <th>996</th>\n",
       "      <td>599</td>\n",
       "      <td>Stone of Farewell (Memory  Sorrow  and Thorn  #2)</td>\n",
       "      <td>1.0</td>\n",
       "      <td>5.00</td>\n",
       "    </tr>\n",
       "    <tr>\n",
       "      <th>997</th>\n",
       "      <td>62</td>\n",
       "      <td>Alas  Babylon</td>\n",
       "      <td>2.0</td>\n",
       "      <td>5.00</td>\n",
       "    </tr>\n",
       "    <tr>\n",
       "      <th>998</th>\n",
       "      <td>913</td>\n",
       "      <td>The Woman in Black</td>\n",
       "      <td>2.0</td>\n",
       "      <td>5.00</td>\n",
       "    </tr>\n",
       "    <tr>\n",
       "      <th>999</th>\n",
       "      <td>441</td>\n",
       "      <td>Misty of Chincoteague (Misty  #1)</td>\n",
       "      <td>2.0</td>\n",
       "      <td>5.00</td>\n",
       "    </tr>\n",
       "  </tbody>\n",
       "</table>\n",
       "<p>1000 rows × 4 columns</p>\n",
       "</div>"
      ],
      "text/plain": [
       "     book_id                                              title  review_count  \\\n",
       "0        303                               Harvesting the Heart           2.0   \n",
       "1        202                                      Drowning Ruth           3.0   \n",
       "2        371                                              Junky           2.0   \n",
       "3        316                  His Excellency: George Washington           2.0   \n",
       "4        915  The World Is Flat: A Brief History of the Twen...           3.0   \n",
       "..       ...                                                ...           ...   \n",
       "995      182                                         Dead Souls           2.0   \n",
       "996      599  Stone of Farewell (Memory  Sorrow  and Thorn  #2)           1.0   \n",
       "997       62                                      Alas  Babylon           2.0   \n",
       "998      913                                 The Woman in Black           2.0   \n",
       "999      441                  Misty of Chincoteague (Misty  #1)           2.0   \n",
       "\n",
       "     avg_rating  \n",
       "0          1.50  \n",
       "1          2.00  \n",
       "2          2.00  \n",
       "3          2.00  \n",
       "4          2.25  \n",
       "..          ...  \n",
       "995        5.00  \n",
       "996        5.00  \n",
       "997        5.00  \n",
       "998        5.00  \n",
       "999        5.00  \n",
       "\n",
       "[1000 rows x 4 columns]"
      ]
     },
     "execution_count": 105,
     "metadata": {},
     "output_type": "execute_result"
    }
   ],
   "source": [
    "query_17_1 = '''\n",
    "select\n",
    "    books.book_id,\n",
    "    books.title,\n",
    "    sub1.review_count,\n",
    "    sub2.avg_rating\n",
    "\n",
    "from books\n",
    "    left join\n",
    "        (select \n",
    "            book_id,\n",
    "            count (review_id) as review_count\n",
    "        from reviews\n",
    "        group by book_id) as sub1 on books.book_id = sub1.book_id\n",
    "    \n",
    "    left join \n",
    "        (select \n",
    "            book_id,\n",
    "            avg (rating) as avg_rating\n",
    "        from ratings\n",
    "        group by book_id) as sub2 on books.book_id = sub2.book_id\n",
    "order by avg_rating;\n",
    "'''\n",
    "read_sql(query_17_1)"
   ]
  },
  {
   "cell_type": "markdown",
   "metadata": {},
   "source": [
    "Variant 2"
   ]
  },
  {
   "cell_type": "code",
   "execution_count": 106,
   "metadata": {},
   "outputs": [
    {
     "data": {
      "text/html": [
       "<div>\n",
       "<style scoped>\n",
       "    .dataframe tbody tr th:only-of-type {\n",
       "        vertical-align: middle;\n",
       "    }\n",
       "\n",
       "    .dataframe tbody tr th {\n",
       "        vertical-align: top;\n",
       "    }\n",
       "\n",
       "    .dataframe thead th {\n",
       "        text-align: right;\n",
       "    }\n",
       "</style>\n",
       "<table border=\"1\" class=\"dataframe\">\n",
       "  <thead>\n",
       "    <tr style=\"text-align: right;\">\n",
       "      <th></th>\n",
       "      <th>book_id</th>\n",
       "      <th>title</th>\n",
       "      <th>review_count</th>\n",
       "      <th>avg_rating</th>\n",
       "    </tr>\n",
       "  </thead>\n",
       "  <tbody>\n",
       "    <tr>\n",
       "      <th>0</th>\n",
       "      <td>83</td>\n",
       "      <td>Anne Rice's The Vampire Lestat: A Graphic Novel</td>\n",
       "      <td>0</td>\n",
       "      <td>3.666667</td>\n",
       "    </tr>\n",
       "    <tr>\n",
       "      <th>1</th>\n",
       "      <td>672</td>\n",
       "      <td>The Cat in the Hat and Other Dr. Seuss Favorites</td>\n",
       "      <td>0</td>\n",
       "      <td>5.000000</td>\n",
       "    </tr>\n",
       "    <tr>\n",
       "      <th>2</th>\n",
       "      <td>221</td>\n",
       "      <td>Essential Tales and Poems</td>\n",
       "      <td>0</td>\n",
       "      <td>4.000000</td>\n",
       "    </tr>\n",
       "    <tr>\n",
       "      <th>3</th>\n",
       "      <td>808</td>\n",
       "      <td>The Natural Way to Draw</td>\n",
       "      <td>0</td>\n",
       "      <td>3.000000</td>\n",
       "    </tr>\n",
       "    <tr>\n",
       "      <th>4</th>\n",
       "      <td>191</td>\n",
       "      <td>Disney's Beauty and the Beast (A Little Golden...</td>\n",
       "      <td>0</td>\n",
       "      <td>4.000000</td>\n",
       "    </tr>\n",
       "    <tr>\n",
       "      <th>...</th>\n",
       "      <td>...</td>\n",
       "      <td>...</td>\n",
       "      <td>...</td>\n",
       "      <td>...</td>\n",
       "    </tr>\n",
       "    <tr>\n",
       "      <th>995</th>\n",
       "      <td>733</td>\n",
       "      <td>The Giver (The Giver  #1)</td>\n",
       "      <td>6</td>\n",
       "      <td>3.750000</td>\n",
       "    </tr>\n",
       "    <tr>\n",
       "      <th>996</th>\n",
       "      <td>854</td>\n",
       "      <td>The Road</td>\n",
       "      <td>6</td>\n",
       "      <td>3.772727</td>\n",
       "    </tr>\n",
       "    <tr>\n",
       "      <th>997</th>\n",
       "      <td>695</td>\n",
       "      <td>The Curious Incident of the Dog in the Night-Time</td>\n",
       "      <td>6</td>\n",
       "      <td>4.081081</td>\n",
       "    </tr>\n",
       "    <tr>\n",
       "      <th>998</th>\n",
       "      <td>696</td>\n",
       "      <td>The Da Vinci Code (Robert Langdon  #2)</td>\n",
       "      <td>6</td>\n",
       "      <td>3.830508</td>\n",
       "    </tr>\n",
       "    <tr>\n",
       "      <th>999</th>\n",
       "      <td>948</td>\n",
       "      <td>Twilight (Twilight  #1)</td>\n",
       "      <td>7</td>\n",
       "      <td>3.662500</td>\n",
       "    </tr>\n",
       "  </tbody>\n",
       "</table>\n",
       "<p>1000 rows × 4 columns</p>\n",
       "</div>"
      ],
      "text/plain": [
       "     book_id                                              title  review_count  \\\n",
       "0         83    Anne Rice's The Vampire Lestat: A Graphic Novel             0   \n",
       "1        672   The Cat in the Hat and Other Dr. Seuss Favorites             0   \n",
       "2        221                          Essential Tales and Poems             0   \n",
       "3        808                            The Natural Way to Draw             0   \n",
       "4        191  Disney's Beauty and the Beast (A Little Golden...             0   \n",
       "..       ...                                                ...           ...   \n",
       "995      733                          The Giver (The Giver  #1)             6   \n",
       "996      854                                           The Road             6   \n",
       "997      695  The Curious Incident of the Dog in the Night-Time             6   \n",
       "998      696             The Da Vinci Code (Robert Langdon  #2)             6   \n",
       "999      948                            Twilight (Twilight  #1)             7   \n",
       "\n",
       "     avg_rating  \n",
       "0      3.666667  \n",
       "1      5.000000  \n",
       "2      4.000000  \n",
       "3      3.000000  \n",
       "4      4.000000  \n",
       "..          ...  \n",
       "995    3.750000  \n",
       "996    3.772727  \n",
       "997    4.081081  \n",
       "998    3.830508  \n",
       "999    3.662500  \n",
       "\n",
       "[1000 rows x 4 columns]"
      ]
     },
     "execution_count": 106,
     "metadata": {},
     "output_type": "execute_result"
    }
   ],
   "source": [
    "query_17_2 = '''\n",
    "select\n",
    "    books.book_id,\n",
    "    books.title,\n",
    "    count (distinct reviews.review_id) as review_count,\n",
    "    avg (ratings.rating) as avg_rating\n",
    "from books\n",
    "    left join reviews on books.book_id = reviews.book_id\n",
    "    left join ratings on books.book_id = ratings.book_id\n",
    "group by\n",
    "    books.book_id,\n",
    "    books.title\n",
    "order by review_count;\n",
    "'''\n",
    "read_sql(query_17_2)"
   ]
  },
  {
   "cell_type": "markdown",
   "metadata": {},
   "source": [
    "[Come back to Start](#100-bullet)"
   ]
  },
  {
   "cell_type": "markdown",
   "metadata": {},
   "source": [
    "### A publisher, which has published the greatest number of books containing more than 50 pages"
   ]
  },
  {
   "cell_type": "markdown",
   "metadata": {},
   "source": [
    "Variant 1"
   ]
  },
  {
   "cell_type": "code",
   "execution_count": 29,
   "metadata": {},
   "outputs": [
    {
     "data": {
      "text/html": [
       "<div>\n",
       "<style scoped>\n",
       "    .dataframe tbody tr th:only-of-type {\n",
       "        vertical-align: middle;\n",
       "    }\n",
       "\n",
       "    .dataframe tbody tr th {\n",
       "        vertical-align: top;\n",
       "    }\n",
       "\n",
       "    .dataframe thead th {\n",
       "        text-align: right;\n",
       "    }\n",
       "</style>\n",
       "<table border=\"1\" class=\"dataframe\">\n",
       "  <thead>\n",
       "    <tr style=\"text-align: right;\">\n",
       "      <th></th>\n",
       "      <th>publisher_id</th>\n",
       "      <th>publisher</th>\n",
       "      <th>book_cnt</th>\n",
       "    </tr>\n",
       "  </thead>\n",
       "  <tbody>\n",
       "    <tr>\n",
       "      <th>0</th>\n",
       "      <td>212</td>\n",
       "      <td>Penguin Books</td>\n",
       "      <td>42</td>\n",
       "    </tr>\n",
       "  </tbody>\n",
       "</table>\n",
       "</div>"
      ],
      "text/plain": [
       "   publisher_id      publisher  book_cnt\n",
       "0           212  Penguin Books        42"
      ]
     },
     "execution_count": 29,
     "metadata": {},
     "output_type": "execute_result"
    }
   ],
   "source": [
    "query_18 = '''\n",
    "select books.publisher_id,\n",
    "       publishers.publisher,\n",
    "       count(books.book_id) as book_cnt\n",
    "from books\n",
    "join publishers on books.publisher_id = publishers.publisher_id\n",
    "where num_pages > 50\n",
    "group by books.publisher_id,\n",
    "         publishers.publisher\n",
    "order by book_cnt desc\n",
    "limit 1;\n",
    "'''\n",
    "pd.io.sql.read_sql(query_18, con = engine)"
   ]
  },
  {
   "cell_type": "markdown",
   "metadata": {},
   "source": [
    "Variant 2"
   ]
  },
  {
   "cell_type": "code",
   "execution_count": 100,
   "metadata": {},
   "outputs": [
    {
     "data": {
      "text/html": [
       "<div>\n",
       "<style scoped>\n",
       "    .dataframe tbody tr th:only-of-type {\n",
       "        vertical-align: middle;\n",
       "    }\n",
       "\n",
       "    .dataframe tbody tr th {\n",
       "        vertical-align: top;\n",
       "    }\n",
       "\n",
       "    .dataframe thead th {\n",
       "        text-align: right;\n",
       "    }\n",
       "</style>\n",
       "<table border=\"1\" class=\"dataframe\">\n",
       "  <thead>\n",
       "    <tr style=\"text-align: right;\">\n",
       "      <th></th>\n",
       "      <th>publisher</th>\n",
       "      <th>book_cnt</th>\n",
       "    </tr>\n",
       "  </thead>\n",
       "  <tbody>\n",
       "    <tr>\n",
       "      <th>0</th>\n",
       "      <td>penguin books</td>\n",
       "      <td>42</td>\n",
       "    </tr>\n",
       "  </tbody>\n",
       "</table>\n",
       "</div>"
      ],
      "text/plain": [
       "       publisher  book_cnt\n",
       "0  penguin books        42"
      ]
     },
     "execution_count": 100,
     "metadata": {},
     "output_type": "execute_result"
    }
   ],
   "source": [
    "# as we know about duplicates for \"Ballantine Books\", let's check also, making lower registers\n",
    "query_19 = '''\n",
    "select \n",
    "       lower(publishers.publisher) as publisher,\n",
    "       count(books.book_id) as book_cnt\n",
    "from books\n",
    "join publishers on books.publisher_id = publishers.publisher_id\n",
    "where num_pages > 50\n",
    "group by lower(publishers.publisher)\n",
    "order by book_cnt desc\n",
    "limit 1;\n",
    "'''\n",
    "read_sql(query_19)"
   ]
  },
  {
   "cell_type": "markdown",
   "metadata": {},
   "source": [
    "[Come back to Start](#100-bullet)"
   ]
  },
  {
   "cell_type": "markdown",
   "metadata": {},
   "source": [
    "### An author who got the highest average user rating - to consider only the books with 50 and more ratings)"
   ]
  },
  {
   "cell_type": "code",
   "execution_count": 101,
   "metadata": {},
   "outputs": [
    {
     "data": {
      "text/html": [
       "<div>\n",
       "<style scoped>\n",
       "    .dataframe tbody tr th:only-of-type {\n",
       "        vertical-align: middle;\n",
       "    }\n",
       "\n",
       "    .dataframe tbody tr th {\n",
       "        vertical-align: top;\n",
       "    }\n",
       "\n",
       "    .dataframe thead th {\n",
       "        text-align: right;\n",
       "    }\n",
       "</style>\n",
       "<table border=\"1\" class=\"dataframe\">\n",
       "  <thead>\n",
       "    <tr style=\"text-align: right;\">\n",
       "      <th></th>\n",
       "      <th>author_id</th>\n",
       "      <th>author</th>\n",
       "      <th>avg_rating_all_books</th>\n",
       "    </tr>\n",
       "  </thead>\n",
       "  <tbody>\n",
       "    <tr>\n",
       "      <th>0</th>\n",
       "      <td>236</td>\n",
       "      <td>J.K. Rowling/Mary GrandPré</td>\n",
       "      <td>4.283844</td>\n",
       "    </tr>\n",
       "  </tbody>\n",
       "</table>\n",
       "</div>"
      ],
      "text/plain": [
       "   author_id                      author  avg_rating_all_books\n",
       "0        236  J.K. Rowling/Mary GrandPré              4.283844"
      ]
     },
     "execution_count": 101,
     "metadata": {},
     "output_type": "execute_result"
    }
   ],
   "source": [
    "query_20 = '''\n",
    "select sub.author_id,\n",
    "       sub.author,\n",
    "       avg (sub.rating_avg) as avg_rating_all_books\n",
    "from\n",
    "(select ratings.book_id,\n",
    "        count (rating) as rating_cnt,\n",
    "        avg (rating) as rating_avg,\n",
    "        books.author_id,\n",
    "        authors.author\n",
    "from ratings\n",
    "join books on ratings.book_id = books.book_id\n",
    "join authors on books.author_id = authors.author_id\n",
    "group by ratings.book_id, \n",
    "         books.author_id,\n",
    "         authors.author\n",
    "having count (rating) >= 50) as sub\n",
    "group by sub.author_id,\n",
    "         sub.author\n",
    "order by avg (sub.rating_avg) desc\n",
    "limit 1;\n",
    "'''\n",
    "read_sql(query_20)"
   ]
  },
  {
   "cell_type": "markdown",
   "metadata": {},
   "source": [
    "[Come back to Start](#100-bullet)"
   ]
  },
  {
   "cell_type": "markdown",
   "metadata": {},
   "source": [
    "### An average number of reviews from users who gave more than 50 ratings"
   ]
  },
  {
   "cell_type": "code",
   "execution_count": 102,
   "metadata": {},
   "outputs": [
    {
     "data": {
      "text/html": [
       "<div>\n",
       "<style scoped>\n",
       "    .dataframe tbody tr th:only-of-type {\n",
       "        vertical-align: middle;\n",
       "    }\n",
       "\n",
       "    .dataframe tbody tr th {\n",
       "        vertical-align: top;\n",
       "    }\n",
       "\n",
       "    .dataframe thead th {\n",
       "        text-align: right;\n",
       "    }\n",
       "</style>\n",
       "<table border=\"1\" class=\"dataframe\">\n",
       "  <thead>\n",
       "    <tr style=\"text-align: right;\">\n",
       "      <th></th>\n",
       "      <th>avg_reviews_count</th>\n",
       "    </tr>\n",
       "  </thead>\n",
       "  <tbody>\n",
       "    <tr>\n",
       "      <th>0</th>\n",
       "      <td>24.333333</td>\n",
       "    </tr>\n",
       "  </tbody>\n",
       "</table>\n",
       "</div>"
      ],
      "text/plain": [
       "   avg_reviews_count\n",
       "0          24.333333"
      ]
     },
     "execution_count": 102,
     "metadata": {},
     "output_type": "execute_result"
    }
   ],
   "source": [
    "query_21 = '''\n",
    "select avg (sub2.reviews_count) as avg_reviews_count\n",
    "from\n",
    "(select count(reviews.review_id) as reviews_count\n",
    "from\n",
    "(select username,\n",
    "       count (rating) as rating_cnt\n",
    "from ratings\n",
    "group by username\n",
    "having count (rating) > 50) as sub1\n",
    "left join reviews on sub1.username = reviews.username\n",
    "group by sub1.username) as sub2;\n",
    "'''\n",
    "read_sql(query_21)"
   ]
  },
  {
   "cell_type": "markdown",
   "metadata": {},
   "source": [
    "[Come back to Start](#100-bullet)"
   ]
  },
  {
   "cell_type": "markdown",
   "metadata": {},
   "source": [
    "## Conclusions"
   ]
  },
  {
   "cell_type": "markdown",
   "metadata": {},
   "source": [
    "1. There have been published 819 books since January 1, 2000.\n",
    "2. For each book in the `books` dataset a number of reviews is counted (and might be from 0 till 7) and an average rating of users is displayed (might be from 1.5 till 5).\n",
    "3. The publisher with the greatest number of books thicker than 50 pages: \"Penguin Books\" - published 42 such books.\n",
    "4. The authors with the highest average book's rating (for only books with 50 or more ratings) are co-authors J.K. Rowling and Mary GrandPré - they got the average rating of 4.283844.\n",
    "5. Average number of reviews from users who gave more than 50 ratings is 24.333333."
   ]
  },
  {
   "cell_type": "markdown",
   "metadata": {},
   "source": [
    "[Come back to Start](#100-bullet)"
   ]
  }
 ],
 "metadata": {
  "ExecuteTimeLog": [
   {
    "duration": 1443,
    "start_time": "2021-08-26T20:22:47.263Z"
   },
   {
    "duration": 3,
    "start_time": "2021-08-26T20:24:14.117Z"
   },
   {
    "duration": 1532,
    "start_time": "2021-08-26T20:24:24.013Z"
   },
   {
    "duration": 2,
    "start_time": "2021-08-26T20:24:25.547Z"
   },
   {
    "duration": 608,
    "start_time": "2021-08-26T20:33:37.111Z"
   },
   {
    "duration": 16,
    "start_time": "2021-08-26T20:34:04.829Z"
   },
   {
    "duration": 11,
    "start_time": "2021-08-26T20:34:26.993Z"
   },
   {
    "duration": 10,
    "start_time": "2021-08-26T20:34:29.922Z"
   },
   {
    "duration": 11,
    "start_time": "2021-08-26T20:34:40.274Z"
   },
   {
    "duration": 800,
    "start_time": "2021-08-27T12:46:45.062Z"
   },
   {
    "duration": 95,
    "start_time": "2021-08-27T12:46:45.864Z"
   },
   {
    "duration": -870253,
    "start_time": "2021-08-27T13:01:16.215Z"
   },
   {
    "duration": 57,
    "start_time": "2021-08-27T12:47:40.112Z"
   },
   {
    "duration": 664,
    "start_time": "2021-08-27T12:47:43.179Z"
   },
   {
    "duration": 747,
    "start_time": "2021-08-27T12:48:02.977Z"
   },
   {
    "duration": 46,
    "start_time": "2021-08-27T12:48:03.726Z"
   },
   {
    "duration": 368,
    "start_time": "2021-08-27T12:48:03.774Z"
   },
   {
    "duration": 286,
    "start_time": "2021-08-27T12:50:00.368Z"
   },
   {
    "duration": 837,
    "start_time": "2021-08-27T12:50:32.150Z"
   },
   {
    "duration": 36,
    "start_time": "2021-08-27T12:50:32.990Z"
   },
   {
    "duration": 327,
    "start_time": "2021-08-27T12:50:33.028Z"
   },
   {
    "duration": 228,
    "start_time": "2021-08-27T14:32:40.180Z"
   },
   {
    "duration": 62,
    "start_time": "2021-08-27T14:33:05.544Z"
   },
   {
    "duration": 68,
    "start_time": "2021-08-27T14:34:01.844Z"
   },
   {
    "duration": 549,
    "start_time": "2021-08-27T15:00:18.790Z"
   },
   {
    "duration": 65,
    "start_time": "2021-08-27T15:03:50.852Z"
   },
   {
    "duration": 64,
    "start_time": "2021-08-27T15:04:44.689Z"
   },
   {
    "duration": 65,
    "start_time": "2021-08-27T15:05:07.854Z"
   },
   {
    "duration": 72,
    "start_time": "2021-08-27T15:06:02.137Z"
   },
   {
    "duration": 65,
    "start_time": "2021-08-27T15:09:59.313Z"
   },
   {
    "duration": 333,
    "start_time": "2021-08-27T15:10:17.980Z"
   },
   {
    "duration": 63,
    "start_time": "2021-08-27T15:10:23.481Z"
   },
   {
    "duration": 803,
    "start_time": "2021-08-27T15:10:30.978Z"
   },
   {
    "duration": 39,
    "start_time": "2021-08-27T15:10:31.784Z"
   },
   {
    "duration": 214,
    "start_time": "2021-08-27T15:10:31.825Z"
   },
   {
    "duration": 58,
    "start_time": "2021-08-27T15:10:32.042Z"
   },
   {
    "duration": 61,
    "start_time": "2021-08-27T15:10:32.103Z"
   },
   {
    "duration": 60,
    "start_time": "2021-08-27T15:10:32.166Z"
   },
   {
    "duration": 61,
    "start_time": "2021-08-27T15:10:32.229Z"
   },
   {
    "duration": 62,
    "start_time": "2021-08-27T15:10:32.293Z"
   },
   {
    "duration": 99,
    "start_time": "2021-08-27T15:15:27.868Z"
   },
   {
    "duration": 99,
    "start_time": "2021-08-27T15:27:04.331Z"
   },
   {
    "duration": 14,
    "start_time": "2021-08-27T15:28:29.421Z"
   },
   {
    "duration": 59,
    "start_time": "2021-08-27T15:29:36.554Z"
   },
   {
    "duration": 59,
    "start_time": "2021-08-27T15:30:19.210Z"
   },
   {
    "duration": 67,
    "start_time": "2021-08-27T15:31:01.312Z"
   },
   {
    "duration": 64,
    "start_time": "2021-08-27T15:31:08.372Z"
   },
   {
    "duration": 11,
    "start_time": "2021-08-27T15:31:52.698Z"
   },
   {
    "duration": 277,
    "start_time": "2021-08-27T15:32:11.983Z"
   },
   {
    "duration": 7355,
    "start_time": "2021-08-27T15:34:17.144Z"
   },
   {
    "duration": -870382,
    "start_time": "2021-08-27T15:48:54.884Z"
   },
   {
    "duration": 64,
    "start_time": "2021-08-27T15:34:28.513Z"
   },
   {
    "duration": 6703,
    "start_time": "2021-08-27T15:34:33.286Z"
   },
   {
    "duration": 58,
    "start_time": "2021-08-27T15:36:48.422Z"
   },
   {
    "duration": 64,
    "start_time": "2021-08-27T15:37:04.437Z"
   },
   {
    "duration": 10,
    "start_time": "2021-08-27T15:37:26.955Z"
   },
   {
    "duration": 59,
    "start_time": "2021-08-27T15:40:35.381Z"
   },
   {
    "duration": 107,
    "start_time": "2021-08-27T15:41:02.534Z"
   },
   {
    "duration": 107,
    "start_time": "2021-08-27T15:45:00.021Z"
   },
   {
    "duration": 84,
    "start_time": "2021-08-27T15:45:31.117Z"
   },
   {
    "duration": 76,
    "start_time": "2021-08-27T15:45:47.746Z"
   },
   {
    "duration": 821,
    "start_time": "2021-08-27T15:46:02.874Z"
   },
   {
    "duration": 45,
    "start_time": "2021-08-27T15:46:03.698Z"
   },
   {
    "duration": 217,
    "start_time": "2021-08-27T15:46:03.746Z"
   },
   {
    "duration": 102,
    "start_time": "2021-08-27T15:46:03.966Z"
   },
   {
    "duration": 104,
    "start_time": "2021-08-27T15:46:04.071Z"
   },
   {
    "duration": -870357,
    "start_time": "2021-08-27T16:00:34.535Z"
   },
   {
    "duration": -870366,
    "start_time": "2021-08-27T16:00:34.546Z"
   },
   {
    "duration": -870369,
    "start_time": "2021-08-27T16:00:34.550Z"
   },
   {
    "duration": -870374,
    "start_time": "2021-08-27T16:00:34.556Z"
   },
   {
    "duration": -870379,
    "start_time": "2021-08-27T16:00:34.563Z"
   },
   {
    "duration": -870383,
    "start_time": "2021-08-27T16:00:34.568Z"
   },
   {
    "duration": -870392,
    "start_time": "2021-08-27T16:00:34.578Z"
   },
   {
    "duration": -870395,
    "start_time": "2021-08-27T16:00:34.583Z"
   },
   {
    "duration": -870404,
    "start_time": "2021-08-27T16:00:34.593Z"
   },
   {
    "duration": -870407,
    "start_time": "2021-08-27T16:00:34.597Z"
   },
   {
    "duration": -870407,
    "start_time": "2021-08-27T16:00:34.600Z"
   },
   {
    "duration": 77,
    "start_time": "2021-08-27T15:48:16.184Z"
   },
   {
    "duration": 73,
    "start_time": "2021-08-27T15:48:32.265Z"
   },
   {
    "duration": 414,
    "start_time": "2021-08-27T15:49:48.379Z"
   },
   {
    "duration": 101,
    "start_time": "2021-08-27T15:49:59.235Z"
   },
   {
    "duration": 98,
    "start_time": "2021-08-27T15:50:13.373Z"
   },
   {
    "duration": 100,
    "start_time": "2021-08-27T15:50:48.752Z"
   },
   {
    "duration": 61,
    "start_time": "2021-08-27T15:51:12.230Z"
   },
   {
    "duration": 110,
    "start_time": "2021-08-27T15:52:11.766Z"
   },
   {
    "duration": 97,
    "start_time": "2021-08-27T15:53:15.279Z"
   },
   {
    "duration": 100,
    "start_time": "2021-08-27T15:54:16.729Z"
   },
   {
    "duration": 125,
    "start_time": "2021-08-27T15:58:35.289Z"
   },
   {
    "duration": 929,
    "start_time": "2021-08-27T15:58:43.608Z"
   },
   {
    "duration": 51,
    "start_time": "2021-08-27T15:58:44.540Z"
   },
   {
    "duration": 227,
    "start_time": "2021-08-27T15:58:44.594Z"
   },
   {
    "duration": 113,
    "start_time": "2021-08-27T15:58:44.824Z"
   },
   {
    "duration": 3,
    "start_time": "2021-08-27T15:58:44.939Z"
   },
   {
    "duration": 79,
    "start_time": "2021-08-27T15:58:44.944Z"
   },
   {
    "duration": -870327,
    "start_time": "2021-08-27T16:13:15.354Z"
   },
   {
    "duration": -870339,
    "start_time": "2021-08-27T16:13:15.367Z"
   },
   {
    "duration": -870344,
    "start_time": "2021-08-27T16:13:15.373Z"
   },
   {
    "duration": -870353,
    "start_time": "2021-08-27T16:13:15.384Z"
   },
   {
    "duration": -870360,
    "start_time": "2021-08-27T16:13:15.392Z"
   },
   {
    "duration": -870367,
    "start_time": "2021-08-27T16:13:15.400Z"
   },
   {
    "duration": -870370,
    "start_time": "2021-08-27T16:13:15.405Z"
   },
   {
    "duration": -870381,
    "start_time": "2021-08-27T16:13:15.417Z"
   },
   {
    "duration": -870384,
    "start_time": "2021-08-27T16:13:15.421Z"
   },
   {
    "duration": -870392,
    "start_time": "2021-08-27T16:13:15.431Z"
   },
   {
    "duration": -870396,
    "start_time": "2021-08-27T16:13:15.436Z"
   },
   {
    "duration": 82,
    "start_time": "2021-08-27T15:58:56.790Z"
   },
   {
    "duration": 5,
    "start_time": "2021-08-27T16:00:40.378Z"
   },
   {
    "duration": 114,
    "start_time": "2021-08-27T16:00:51.387Z"
   },
   {
    "duration": 4,
    "start_time": "2021-08-27T16:03:12.964Z"
   },
   {
    "duration": 101,
    "start_time": "2021-08-27T16:04:01.040Z"
   },
   {
    "duration": 111,
    "start_time": "2021-08-27T16:04:14.986Z"
   },
   {
    "duration": 75,
    "start_time": "2021-08-27T16:15:35.694Z"
   },
   {
    "duration": 61,
    "start_time": "2021-08-27T16:18:35.124Z"
   },
   {
    "duration": 119,
    "start_time": "2021-08-27T16:20:43.914Z"
   },
   {
    "duration": 75,
    "start_time": "2021-08-27T16:21:37.776Z"
   },
   {
    "duration": 64,
    "start_time": "2021-08-27T16:22:17.859Z"
   },
   {
    "duration": 6732,
    "start_time": "2021-08-27T16:23:10.571Z"
   },
   {
    "duration": 66,
    "start_time": "2021-08-27T16:23:21.010Z"
   },
   {
    "duration": 314,
    "start_time": "2021-08-27T16:25:32.043Z"
   },
   {
    "duration": 76,
    "start_time": "2021-08-27T16:25:49.411Z"
   },
   {
    "duration": 65,
    "start_time": "2021-08-27T16:27:07.023Z"
   },
   {
    "duration": 65,
    "start_time": "2021-08-27T16:27:15.940Z"
   },
   {
    "duration": 70,
    "start_time": "2021-08-27T16:27:50.828Z"
   },
   {
    "duration": 10,
    "start_time": "2021-08-27T16:28:47.550Z"
   },
   {
    "duration": 11,
    "start_time": "2021-08-27T16:29:56.494Z"
   },
   {
    "duration": 7244,
    "start_time": "2021-08-27T16:30:24.974Z"
   },
   {
    "duration": 7,
    "start_time": "2021-08-27T16:30:38.185Z"
   },
   {
    "duration": 24,
    "start_time": "2021-08-27T16:33:31.678Z"
   },
   {
    "duration": 65,
    "start_time": "2021-08-27T16:38:41.538Z"
   },
   {
    "duration": 65,
    "start_time": "2021-08-27T16:38:52.310Z"
   },
   {
    "duration": 63,
    "start_time": "2021-08-27T16:40:45.672Z"
   },
   {
    "duration": 63,
    "start_time": "2021-08-27T16:41:24.570Z"
   },
   {
    "duration": 170,
    "start_time": "2021-08-27T16:44:55.423Z"
   },
   {
    "duration": 135,
    "start_time": "2021-08-27T16:46:08.323Z"
   },
   {
    "duration": 68,
    "start_time": "2021-08-27T16:46:23.829Z"
   },
   {
    "duration": 140,
    "start_time": "2021-08-27T16:49:35.077Z"
   },
   {
    "duration": 122,
    "start_time": "2021-08-27T16:53:33.905Z"
   },
   {
    "duration": 169,
    "start_time": "2021-08-27T16:55:44.616Z"
   },
   {
    "duration": 352,
    "start_time": "2021-08-27T16:56:00.198Z"
   },
   {
    "duration": 7,
    "start_time": "2021-08-27T16:56:12.872Z"
   },
   {
    "duration": 10,
    "start_time": "2021-08-27T16:57:23.773Z"
   },
   {
    "duration": 715,
    "start_time": "2021-08-27T16:57:56.611Z"
   },
   {
    "duration": 8,
    "start_time": "2021-08-27T16:58:03.027Z"
   },
   {
    "duration": 11,
    "start_time": "2021-08-27T16:59:01.662Z"
   },
   {
    "duration": 7,
    "start_time": "2021-08-27T17:01:17.232Z"
   },
   {
    "duration": 14,
    "start_time": "2021-08-27T17:01:55.059Z"
   },
   {
    "duration": 76,
    "start_time": "2021-08-27T17:07:12.056Z"
   },
   {
    "duration": 73,
    "start_time": "2021-08-27T17:07:31.825Z"
   },
   {
    "duration": 805,
    "start_time": "2021-08-27T17:20:56.262Z"
   },
   {
    "duration": 43,
    "start_time": "2021-08-27T17:20:57.070Z"
   },
   {
    "duration": 242,
    "start_time": "2021-08-27T17:20:57.115Z"
   },
   {
    "duration": 63,
    "start_time": "2021-08-27T17:20:57.360Z"
   },
   {
    "duration": 92,
    "start_time": "2021-08-27T17:20:57.426Z"
   },
   {
    "duration": 6,
    "start_time": "2021-08-27T17:20:57.520Z"
   },
   {
    "duration": 14,
    "start_time": "2021-08-27T17:20:57.528Z"
   },
   {
    "duration": 18,
    "start_time": "2021-08-27T17:20:57.546Z"
   },
   {
    "duration": 26,
    "start_time": "2021-08-27T17:20:57.567Z"
   },
   {
    "duration": 67,
    "start_time": "2021-08-27T17:20:57.596Z"
   },
   {
    "duration": 65,
    "start_time": "2021-08-27T17:20:57.666Z"
   },
   {
    "duration": 68,
    "start_time": "2021-08-27T17:20:57.734Z"
   },
   {
    "duration": 65,
    "start_time": "2021-08-27T17:20:57.804Z"
   },
   {
    "duration": 63,
    "start_time": "2021-08-27T17:20:57.871Z"
   },
   {
    "duration": 64,
    "start_time": "2021-08-27T17:20:57.937Z"
   },
   {
    "duration": 11,
    "start_time": "2021-08-27T17:20:58.003Z"
   },
   {
    "duration": 9,
    "start_time": "2021-08-27T17:20:58.016Z"
   },
   {
    "duration": 13,
    "start_time": "2021-08-27T17:20:58.027Z"
   },
   {
    "duration": 68,
    "start_time": "2021-08-27T17:20:58.042Z"
   },
   {
    "duration": 63,
    "start_time": "2021-08-27T17:20:58.113Z"
   },
   {
    "duration": 96,
    "start_time": "2021-08-27T17:20:58.178Z"
   },
   {
    "duration": 73,
    "start_time": "2021-08-27T17:20:58.276Z"
   },
   {
    "duration": 70,
    "start_time": "2021-08-27T17:20:58.355Z"
   },
   {
    "duration": 82,
    "start_time": "2021-08-27T17:20:58.427Z"
   },
   {
    "duration": 805,
    "start_time": "2021-08-27T17:22:45.267Z"
   },
   {
    "duration": 37,
    "start_time": "2021-08-27T17:22:46.075Z"
   },
   {
    "duration": 232,
    "start_time": "2021-08-27T17:22:46.115Z"
   },
   {
    "duration": 64,
    "start_time": "2021-08-27T17:22:46.350Z"
   },
   {
    "duration": 90,
    "start_time": "2021-08-27T17:22:46.417Z"
   },
   {
    "duration": 5,
    "start_time": "2021-08-27T17:22:46.510Z"
   },
   {
    "duration": 10,
    "start_time": "2021-08-27T17:22:46.518Z"
   },
   {
    "duration": 9,
    "start_time": "2021-08-27T17:22:46.530Z"
   },
   {
    "duration": 16,
    "start_time": "2021-08-27T17:22:46.543Z"
   },
   {
    "duration": 65,
    "start_time": "2021-08-27T17:22:46.562Z"
   },
   {
    "duration": 86,
    "start_time": "2021-08-27T17:22:46.630Z"
   },
   {
    "duration": 66,
    "start_time": "2021-08-27T17:22:46.719Z"
   },
   {
    "duration": 69,
    "start_time": "2021-08-27T17:22:46.788Z"
   },
   {
    "duration": 64,
    "start_time": "2021-08-27T17:22:46.859Z"
   },
   {
    "duration": 65,
    "start_time": "2021-08-27T17:22:46.925Z"
   },
   {
    "duration": 11,
    "start_time": "2021-08-27T17:22:46.993Z"
   },
   {
    "duration": 8,
    "start_time": "2021-08-27T17:22:47.008Z"
   },
   {
    "duration": 24,
    "start_time": "2021-08-27T17:22:47.019Z"
   },
   {
    "duration": 71,
    "start_time": "2021-08-27T17:22:47.046Z"
   },
   {
    "duration": 64,
    "start_time": "2021-08-27T17:22:47.119Z"
   },
   {
    "duration": 100,
    "start_time": "2021-08-27T17:22:47.185Z"
   },
   {
    "duration": 70,
    "start_time": "2021-08-27T17:22:47.287Z"
   },
   {
    "duration": 66,
    "start_time": "2021-08-27T17:22:47.359Z"
   },
   {
    "duration": 92,
    "start_time": "2021-08-27T17:22:47.428Z"
   },
   {
    "duration": 528,
    "start_time": "2021-08-27T17:37:39.888Z"
   },
   {
    "duration": 535,
    "start_time": "2021-08-27T17:38:17.742Z"
   },
   {
    "duration": 64,
    "start_time": "2021-08-27T17:40:36.787Z"
   },
   {
    "duration": 16,
    "start_time": "2021-08-27T17:49:10.358Z"
   },
   {
    "duration": 98,
    "start_time": "2021-08-27T17:49:57.454Z"
   },
   {
    "duration": 102,
    "start_time": "2021-08-27T17:50:41.625Z"
   },
   {
    "duration": 2004,
    "start_time": "2021-08-27T17:51:45.170Z"
   },
   {
    "duration": 79,
    "start_time": "2021-08-27T17:52:35.691Z"
   },
   {
    "duration": 98,
    "start_time": "2021-08-27T17:53:16.768Z"
   },
   {
    "duration": 1167,
    "start_time": "2021-08-27T17:53:29.743Z"
   },
   {
    "duration": 9,
    "start_time": "2021-08-27T17:54:39.974Z"
   },
   {
    "duration": 11,
    "start_time": "2021-08-27T17:56:07.664Z"
   },
   {
    "duration": 11,
    "start_time": "2021-08-27T17:56:20.178Z"
   },
   {
    "duration": 9,
    "start_time": "2021-08-27T17:56:23.460Z"
   },
   {
    "duration": 9,
    "start_time": "2021-08-27T17:56:33.500Z"
   },
   {
    "duration": 303,
    "start_time": "2021-08-27T17:57:37.272Z"
   },
   {
    "duration": 16,
    "start_time": "2021-08-27T17:57:44.058Z"
   },
   {
    "duration": 13,
    "start_time": "2021-08-27T17:57:59.827Z"
   },
   {
    "duration": 14,
    "start_time": "2021-08-27T18:01:32.172Z"
   },
   {
    "duration": 377,
    "start_time": "2021-08-27T18:09:26.087Z"
   },
   {
    "duration": 80,
    "start_time": "2021-08-27T18:15:17.067Z"
   },
   {
    "duration": 93,
    "start_time": "2021-08-27T18:15:38.711Z"
   },
   {
    "duration": 384,
    "start_time": "2021-08-27T18:23:15.024Z"
   },
   {
    "duration": 377,
    "start_time": "2021-08-27T18:24:43.675Z"
   },
   {
    "duration": 453,
    "start_time": "2021-08-27T18:30:32.460Z"
   },
   {
    "duration": 822,
    "start_time": "2021-08-27T18:32:38.477Z"
   },
   {
    "duration": 770,
    "start_time": "2021-08-27T18:34:22.833Z"
   },
   {
    "duration": 109,
    "start_time": "2021-08-27T18:35:26.709Z"
   },
   {
    "duration": 138,
    "start_time": "2021-08-27T18:36:35.263Z"
   },
   {
    "duration": 894,
    "start_time": "2021-08-27T19:57:07.529Z"
   },
   {
    "duration": 53,
    "start_time": "2021-08-27T19:57:08.426Z"
   },
   {
    "duration": 237,
    "start_time": "2021-08-27T19:57:08.482Z"
   },
   {
    "duration": 65,
    "start_time": "2021-08-27T19:57:08.722Z"
   },
   {
    "duration": 115,
    "start_time": "2021-08-27T19:57:08.790Z"
   },
   {
    "duration": 5,
    "start_time": "2021-08-27T19:57:08.908Z"
   },
   {
    "duration": 13,
    "start_time": "2021-08-27T19:57:08.916Z"
   },
   {
    "duration": 12,
    "start_time": "2021-08-27T19:57:08.931Z"
   },
   {
    "duration": 20,
    "start_time": "2021-08-27T19:57:08.949Z"
   },
   {
    "duration": 68,
    "start_time": "2021-08-27T19:57:08.972Z"
   },
   {
    "duration": 64,
    "start_time": "2021-08-27T19:57:09.043Z"
   },
   {
    "duration": 74,
    "start_time": "2021-08-27T19:57:09.109Z"
   },
   {
    "duration": 65,
    "start_time": "2021-08-27T19:57:09.185Z"
   },
   {
    "duration": 62,
    "start_time": "2021-08-27T19:57:09.253Z"
   },
   {
    "duration": 71,
    "start_time": "2021-08-27T19:57:09.318Z"
   },
   {
    "duration": 9,
    "start_time": "2021-08-27T19:57:09.392Z"
   },
   {
    "duration": 10,
    "start_time": "2021-08-27T19:57:09.405Z"
   },
   {
    "duration": 17,
    "start_time": "2021-08-27T19:57:09.417Z"
   },
   {
    "duration": 75,
    "start_time": "2021-08-27T19:57:09.437Z"
   },
   {
    "duration": 63,
    "start_time": "2021-08-27T19:57:09.514Z"
   },
   {
    "duration": 116,
    "start_time": "2021-08-27T19:57:09.579Z"
   },
   {
    "duration": 66,
    "start_time": "2021-08-27T19:57:09.697Z"
   },
   {
    "duration": 83,
    "start_time": "2021-08-27T19:57:09.766Z"
   },
   {
    "duration": 99,
    "start_time": "2021-08-27T19:57:09.851Z"
   },
   {
    "duration": 66,
    "start_time": "2021-08-27T19:57:09.952Z"
   },
   {
    "duration": 16,
    "start_time": "2021-08-27T19:57:10.021Z"
   },
   {
    "duration": 16,
    "start_time": "2021-08-27T19:57:10.043Z"
   },
   {
    "duration": 12,
    "start_time": "2021-08-27T19:57:10.063Z"
   },
   {
    "duration": 86,
    "start_time": "2021-08-27T19:57:10.077Z"
   },
   {
    "duration": 384,
    "start_time": "2021-08-27T19:57:10.166Z"
   },
   {
    "duration": 10,
    "start_time": "2021-08-27T19:57:59.307Z"
   },
   {
    "duration": 13,
    "start_time": "2021-08-27T19:58:59.333Z"
   },
   {
    "duration": 17,
    "start_time": "2021-08-27T19:59:36.753Z"
   },
   {
    "duration": 65,
    "start_time": "2021-08-27T20:05:00.438Z"
   },
   {
    "duration": 69,
    "start_time": "2021-08-27T20:06:58.387Z"
   },
   {
    "duration": 393,
    "start_time": "2021-08-27T20:08:04.739Z"
   },
   {
    "duration": 66,
    "start_time": "2021-08-27T20:13:27.197Z"
   },
   {
    "duration": 64,
    "start_time": "2021-08-27T20:13:37.529Z"
   },
   {
    "duration": 392,
    "start_time": "2021-08-27T20:20:30.029Z"
   },
   {
    "duration": 67,
    "start_time": "2021-08-27T20:20:43.523Z"
   },
   {
    "duration": 65,
    "start_time": "2021-08-27T20:21:06.190Z"
   },
   {
    "duration": 297,
    "start_time": "2021-08-27T20:22:56.413Z"
   },
   {
    "duration": 10,
    "start_time": "2021-08-27T20:23:02.655Z"
   },
   {
    "duration": 14,
    "start_time": "2021-08-27T20:24:40.498Z"
   },
   {
    "duration": 10,
    "start_time": "2021-08-27T20:24:56.178Z"
   },
   {
    "duration": 116,
    "start_time": "2021-08-27T20:25:58.658Z"
   },
   {
    "duration": 103,
    "start_time": "2021-08-27T20:27:07.103Z"
   },
   {
    "duration": 361,
    "start_time": "2021-08-27T20:34:04.454Z"
   },
   {
    "duration": 82,
    "start_time": "2021-08-27T20:34:21.427Z"
   },
   {
    "duration": 334,
    "start_time": "2021-08-27T20:42:08.887Z"
   },
   {
    "duration": 340,
    "start_time": "2021-08-27T20:42:38.598Z"
   },
   {
    "duration": 375,
    "start_time": "2021-08-27T20:43:05.856Z"
   },
   {
    "duration": 374,
    "start_time": "2021-08-27T20:46:11.327Z"
   },
   {
    "duration": 77,
    "start_time": "2021-08-27T20:47:07.103Z"
   },
   {
    "duration": 71,
    "start_time": "2021-08-27T20:49:30.978Z"
   },
   {
    "duration": 390,
    "start_time": "2021-08-27T20:54:30.208Z"
   },
   {
    "duration": 368,
    "start_time": "2021-08-27T20:55:04.344Z"
   },
   {
    "duration": 71,
    "start_time": "2021-08-27T20:55:10.029Z"
   },
   {
    "duration": 11,
    "start_time": "2021-08-27T20:55:33.079Z"
   },
   {
    "duration": 330,
    "start_time": "2021-08-27T21:00:04.248Z"
   },
   {
    "duration": 337,
    "start_time": "2021-08-27T21:00:20.804Z"
   },
   {
    "duration": 73,
    "start_time": "2021-08-27T21:00:57.702Z"
   },
   {
    "duration": 365,
    "start_time": "2021-08-27T21:01:35.704Z"
   },
   {
    "duration": 69,
    "start_time": "2021-08-27T21:01:49.327Z"
   },
   {
    "duration": 70,
    "start_time": "2021-08-27T21:04:29.818Z"
   },
   {
    "duration": 386,
    "start_time": "2021-08-27T21:06:33.129Z"
   },
   {
    "duration": 324,
    "start_time": "2021-08-27T21:07:19.847Z"
   },
   {
    "duration": 321,
    "start_time": "2021-08-27T21:07:41.199Z"
   },
   {
    "duration": 350,
    "start_time": "2021-08-27T21:08:19.518Z"
   },
   {
    "duration": 67,
    "start_time": "2021-08-27T21:08:38.029Z"
   },
   {
    "duration": 69,
    "start_time": "2021-08-27T21:10:08.422Z"
   },
   {
    "duration": 656,
    "start_time": "2021-08-28T07:41:08.710Z"
   },
   {
    "duration": 25,
    "start_time": "2021-08-28T07:41:09.367Z"
   },
   {
    "duration": 256,
    "start_time": "2021-08-28T07:41:09.394Z"
   },
   {
    "duration": 69,
    "start_time": "2021-08-28T07:41:09.653Z"
   },
   {
    "duration": 95,
    "start_time": "2021-08-28T07:41:09.723Z"
   },
   {
    "duration": 4,
    "start_time": "2021-08-28T07:41:09.819Z"
   },
   {
    "duration": 10,
    "start_time": "2021-08-28T07:41:09.824Z"
   },
   {
    "duration": 6,
    "start_time": "2021-08-28T07:41:09.836Z"
   },
   {
    "duration": 13,
    "start_time": "2021-08-28T07:41:09.844Z"
   },
   {
    "duration": 70,
    "start_time": "2021-08-28T07:41:09.859Z"
   },
   {
    "duration": 70,
    "start_time": "2021-08-28T07:41:09.931Z"
   },
   {
    "duration": 71,
    "start_time": "2021-08-28T07:41:10.002Z"
   },
   {
    "duration": 71,
    "start_time": "2021-08-28T07:41:10.075Z"
   },
   {
    "duration": 69,
    "start_time": "2021-08-28T07:41:10.147Z"
   },
   {
    "duration": 70,
    "start_time": "2021-08-28T07:41:10.218Z"
   },
   {
    "duration": 8,
    "start_time": "2021-08-28T07:41:10.289Z"
   },
   {
    "duration": 10,
    "start_time": "2021-08-28T07:41:10.298Z"
   },
   {
    "duration": 15,
    "start_time": "2021-08-28T07:41:10.310Z"
   },
   {
    "duration": 73,
    "start_time": "2021-08-28T07:41:10.327Z"
   },
   {
    "duration": 69,
    "start_time": "2021-08-28T07:41:10.401Z"
   },
   {
    "duration": 94,
    "start_time": "2021-08-28T07:41:10.472Z"
   },
   {
    "duration": 71,
    "start_time": "2021-08-28T07:41:10.567Z"
   },
   {
    "duration": 70,
    "start_time": "2021-08-28T07:41:10.640Z"
   },
   {
    "duration": 85,
    "start_time": "2021-08-28T07:41:10.712Z"
   },
   {
    "duration": 68,
    "start_time": "2021-08-28T07:41:10.799Z"
   },
   {
    "duration": 7,
    "start_time": "2021-08-28T07:41:10.869Z"
   },
   {
    "duration": 21,
    "start_time": "2021-08-28T07:41:10.879Z"
   },
   {
    "duration": 26,
    "start_time": "2021-08-28T07:41:10.902Z"
   },
   {
    "duration": 103,
    "start_time": "2021-08-28T07:41:10.929Z"
   },
   {
    "duration": 71,
    "start_time": "2021-08-28T07:41:11.034Z"
   },
   {
    "duration": 7,
    "start_time": "2021-08-28T07:41:11.107Z"
   },
   {
    "duration": 22,
    "start_time": "2021-08-28T07:41:11.116Z"
   },
   {
    "duration": 13,
    "start_time": "2021-08-28T07:41:11.140Z"
   },
   {
    "duration": 84,
    "start_time": "2021-08-28T07:41:11.155Z"
   },
   {
    "duration": 74,
    "start_time": "2021-08-28T07:41:11.241Z"
   },
   {
    "duration": 73,
    "start_time": "2021-08-28T07:41:11.317Z"
   },
   {
    "duration": 202,
    "start_time": "2021-08-28T07:46:40.817Z"
   },
   {
    "duration": 74,
    "start_time": "2021-08-28T07:47:21.104Z"
   },
   {
    "duration": 407,
    "start_time": "2021-08-28T07:50:41.975Z"
   },
   {
    "duration": 349,
    "start_time": "2021-08-28T07:51:00.477Z"
   },
   {
    "duration": 75,
    "start_time": "2021-08-28T07:51:07.837Z"
   },
   {
    "duration": 76,
    "start_time": "2021-08-28T07:52:42.277Z"
   },
   {
    "duration": 74,
    "start_time": "2021-08-28T08:07:53.963Z"
   },
   {
    "duration": 73,
    "start_time": "2021-08-28T08:08:51.483Z"
   },
   {
    "duration": 73,
    "start_time": "2021-08-28T08:09:05.693Z"
   },
   {
    "duration": 73,
    "start_time": "2021-08-28T08:09:10.433Z"
   },
   {
    "duration": 335,
    "start_time": "2021-08-28T08:11:19.383Z"
   },
   {
    "duration": 337,
    "start_time": "2021-08-28T08:11:49.556Z"
   },
   {
    "duration": 356,
    "start_time": "2021-08-28T08:12:47.427Z"
   },
   {
    "duration": 77,
    "start_time": "2021-08-28T08:13:15.645Z"
   },
   {
    "duration": 80,
    "start_time": "2021-08-28T08:13:55.145Z"
   },
   {
    "duration": 7,
    "start_time": "2021-08-28T08:18:14.290Z"
   },
   {
    "duration": 7,
    "start_time": "2021-08-28T08:18:46.169Z"
   },
   {
    "duration": 353,
    "start_time": "2021-08-28T08:30:17.489Z"
   },
   {
    "duration": 365,
    "start_time": "2021-08-28T08:30:23.247Z"
   },
   {
    "duration": 336,
    "start_time": "2021-08-28T08:31:18.810Z"
   },
   {
    "duration": 70,
    "start_time": "2021-08-28T08:33:16.261Z"
   },
   {
    "duration": 85,
    "start_time": "2021-08-28T08:38:32.070Z"
   },
   {
    "duration": 8,
    "start_time": "2021-08-28T08:41:54.451Z"
   },
   {
    "duration": 73,
    "start_time": "2021-08-28T08:45:48.349Z"
   },
   {
    "duration": 524,
    "start_time": "2021-08-28T08:48:24.153Z"
   },
   {
    "duration": 335,
    "start_time": "2021-08-28T08:48:55.002Z"
   },
   {
    "duration": 72,
    "start_time": "2021-08-28T08:49:11.580Z"
   },
   {
    "duration": 72,
    "start_time": "2021-08-28T08:49:32.815Z"
   },
   {
    "duration": 81,
    "start_time": "2021-08-28T09:17:15.057Z"
   },
   {
    "duration": 345,
    "start_time": "2021-08-28T09:17:42.660Z"
   },
   {
    "duration": 302,
    "start_time": "2021-08-28T09:18:00.590Z"
   },
   {
    "duration": 87,
    "start_time": "2021-08-28T09:42:37.471Z"
   },
   {
    "duration": 107,
    "start_time": "2021-08-28T09:59:55.148Z"
   },
   {
    "duration": 310,
    "start_time": "2021-08-28T10:02:57.707Z"
   },
   {
    "duration": 8,
    "start_time": "2021-08-28T10:22:18.286Z"
   },
   {
    "duration": 7,
    "start_time": "2021-08-28T10:22:38.944Z"
   },
   {
    "duration": 7,
    "start_time": "2021-08-28T10:22:41.701Z"
   },
   {
    "duration": 87,
    "start_time": "2021-08-28T10:25:49.466Z"
   },
   {
    "duration": 103,
    "start_time": "2021-08-28T10:50:45.474Z"
   },
   {
    "duration": 106,
    "start_time": "2021-08-28T10:51:50.442Z"
   },
   {
    "duration": 102,
    "start_time": "2021-08-28T10:52:29.910Z"
   },
   {
    "duration": 103,
    "start_time": "2021-08-28T10:53:23.225Z"
   },
   {
    "duration": 101,
    "start_time": "2021-08-28T10:53:57.175Z"
   },
   {
    "duration": 113,
    "start_time": "2021-08-28T10:54:20.141Z"
   },
   {
    "duration": 110,
    "start_time": "2021-08-28T10:59:13.778Z"
   },
   {
    "duration": 72,
    "start_time": "2021-08-28T11:01:26.671Z"
   },
   {
    "duration": 200,
    "start_time": "2021-08-28T11:01:39.000Z"
   },
   {
    "duration": 79,
    "start_time": "2021-08-28T11:02:04.374Z"
   },
   {
    "duration": 75,
    "start_time": "2021-08-28T11:08:40.023Z"
   },
   {
    "duration": 75,
    "start_time": "2021-08-28T11:09:13.800Z"
   },
   {
    "duration": 71,
    "start_time": "2021-08-28T11:10:08.153Z"
   },
   {
    "duration": 275,
    "start_time": "2021-08-28T11:15:51.670Z"
   },
   {
    "duration": 7,
    "start_time": "2021-08-28T11:15:56.562Z"
   },
   {
    "duration": 356,
    "start_time": "2021-08-28T11:37:28.355Z"
   },
   {
    "duration": 339,
    "start_time": "2021-08-28T11:42:47.893Z"
   },
   {
    "duration": 882,
    "start_time": "2021-08-28T11:43:25.199Z"
   },
   {
    "duration": 70,
    "start_time": "2021-08-28T11:44:41.795Z"
   },
   {
    "duration": 71,
    "start_time": "2021-08-28T11:45:32.677Z"
   },
   {
    "duration": 79,
    "start_time": "2021-08-28T11:45:48.850Z"
   },
   {
    "duration": 73,
    "start_time": "2021-08-28T11:48:33.102Z"
   },
   {
    "duration": 356,
    "start_time": "2021-08-28T11:49:04.164Z"
   },
   {
    "duration": 69,
    "start_time": "2021-08-28T11:49:17.488Z"
   },
   {
    "duration": 371,
    "start_time": "2021-08-28T11:56:06.960Z"
   },
   {
    "duration": 335,
    "start_time": "2021-08-28T11:56:22.546Z"
   },
   {
    "duration": 70,
    "start_time": "2021-08-28T11:56:51.086Z"
   },
   {
    "duration": 334,
    "start_time": "2021-08-28T11:57:26.363Z"
   },
   {
    "duration": 391,
    "start_time": "2021-08-28T11:58:15.593Z"
   },
   {
    "duration": 357,
    "start_time": "2021-08-28T11:58:31.512Z"
   },
   {
    "duration": 355,
    "start_time": "2021-08-28T11:59:09.624Z"
   },
   {
    "duration": 71,
    "start_time": "2021-08-28T11:59:51.533Z"
   },
   {
    "duration": 70,
    "start_time": "2021-08-28T12:24:59.751Z"
   },
   {
    "duration": 346,
    "start_time": "2021-08-28T12:30:22.824Z"
   },
   {
    "duration": 144,
    "start_time": "2021-08-28T12:40:02.220Z"
   },
   {
    "duration": 662,
    "start_time": "2021-08-28T12:45:54.778Z"
   },
   {
    "duration": 31,
    "start_time": "2021-08-28T12:45:55.444Z"
   },
   {
    "duration": 256,
    "start_time": "2021-08-28T12:45:55.478Z"
   },
   {
    "duration": 74,
    "start_time": "2021-08-28T12:45:55.736Z"
   },
   {
    "duration": 96,
    "start_time": "2021-08-28T12:45:55.812Z"
   },
   {
    "duration": 4,
    "start_time": "2021-08-28T12:45:55.910Z"
   },
   {
    "duration": 9,
    "start_time": "2021-08-28T12:45:55.916Z"
   },
   {
    "duration": 8,
    "start_time": "2021-08-28T12:45:55.927Z"
   },
   {
    "duration": 25,
    "start_time": "2021-08-28T12:45:55.938Z"
   },
   {
    "duration": 70,
    "start_time": "2021-08-28T12:45:55.965Z"
   },
   {
    "duration": 68,
    "start_time": "2021-08-28T12:45:56.037Z"
   },
   {
    "duration": 73,
    "start_time": "2021-08-28T12:45:56.107Z"
   },
   {
    "duration": 71,
    "start_time": "2021-08-28T12:45:56.182Z"
   },
   {
    "duration": 69,
    "start_time": "2021-08-28T12:45:56.255Z"
   },
   {
    "duration": 69,
    "start_time": "2021-08-28T12:45:56.326Z"
   },
   {
    "duration": 7,
    "start_time": "2021-08-28T12:45:56.397Z"
   },
   {
    "duration": 10,
    "start_time": "2021-08-28T12:45:56.406Z"
   },
   {
    "duration": 16,
    "start_time": "2021-08-28T12:45:56.418Z"
   },
   {
    "duration": 72,
    "start_time": "2021-08-28T12:45:56.436Z"
   },
   {
    "duration": 70,
    "start_time": "2021-08-28T12:45:56.510Z"
   },
   {
    "duration": 72,
    "start_time": "2021-08-28T12:45:56.582Z"
   },
   {
    "duration": 103,
    "start_time": "2021-08-28T12:45:56.656Z"
   },
   {
    "duration": 71,
    "start_time": "2021-08-28T12:45:56.761Z"
   },
   {
    "duration": 69,
    "start_time": "2021-08-28T12:45:56.833Z"
   },
   {
    "duration": 85,
    "start_time": "2021-08-28T12:45:56.904Z"
   },
   {
    "duration": 68,
    "start_time": "2021-08-28T12:45:56.991Z"
   },
   {
    "duration": 87,
    "start_time": "2021-08-28T12:45:57.063Z"
   },
   {
    "duration": 86,
    "start_time": "2021-08-28T12:45:57.152Z"
   },
   {
    "duration": 71,
    "start_time": "2021-08-28T12:45:57.239Z"
   },
   {
    "duration": 70,
    "start_time": "2021-08-28T12:45:57.312Z"
   },
   {
    "duration": 76,
    "start_time": "2021-08-28T12:45:57.384Z"
   },
   {
    "duration": 8,
    "start_time": "2021-08-28T12:45:57.462Z"
   },
   {
    "duration": 11,
    "start_time": "2021-08-28T12:45:57.471Z"
   },
   {
    "duration": 76,
    "start_time": "2021-08-28T12:45:57.484Z"
   },
   {
    "duration": 91,
    "start_time": "2021-08-28T12:53:42.755Z"
   },
   {
    "duration": 692,
    "start_time": "2021-08-28T12:54:48.211Z"
   },
   {
    "duration": 42,
    "start_time": "2021-08-28T12:54:48.906Z"
   },
   {
    "duration": 268,
    "start_time": "2021-08-28T12:54:48.952Z"
   },
   {
    "duration": 74,
    "start_time": "2021-08-28T12:54:49.222Z"
   },
   {
    "duration": 101,
    "start_time": "2021-08-28T12:54:49.298Z"
   },
   {
    "duration": 5,
    "start_time": "2021-08-28T12:54:49.400Z"
   },
   {
    "duration": 9,
    "start_time": "2021-08-28T12:54:49.406Z"
   },
   {
    "duration": 7,
    "start_time": "2021-08-28T12:54:49.417Z"
   },
   {
    "duration": 12,
    "start_time": "2021-08-28T12:54:49.427Z"
   },
   {
    "duration": 74,
    "start_time": "2021-08-28T12:54:49.442Z"
   },
   {
    "duration": 73,
    "start_time": "2021-08-28T12:54:49.519Z"
   },
   {
    "duration": 79,
    "start_time": "2021-08-28T12:54:49.594Z"
   },
   {
    "duration": 76,
    "start_time": "2021-08-28T12:54:49.675Z"
   },
   {
    "duration": 74,
    "start_time": "2021-08-28T12:54:49.753Z"
   },
   {
    "duration": 74,
    "start_time": "2021-08-28T12:54:49.829Z"
   },
   {
    "duration": 8,
    "start_time": "2021-08-28T12:54:49.904Z"
   },
   {
    "duration": 9,
    "start_time": "2021-08-28T12:54:49.914Z"
   },
   {
    "duration": 10,
    "start_time": "2021-08-28T12:54:49.924Z"
   },
   {
    "duration": 77,
    "start_time": "2021-08-28T12:54:49.935Z"
   },
   {
    "duration": 76,
    "start_time": "2021-08-28T12:54:50.013Z"
   },
   {
    "duration": 74,
    "start_time": "2021-08-28T12:54:50.091Z"
   },
   {
    "duration": 110,
    "start_time": "2021-08-28T12:54:50.167Z"
   },
   {
    "duration": 77,
    "start_time": "2021-08-28T12:54:50.279Z"
   },
   {
    "duration": 73,
    "start_time": "2021-08-28T12:54:50.358Z"
   },
   {
    "duration": 97,
    "start_time": "2021-08-28T12:54:50.433Z"
   },
   {
    "duration": 82,
    "start_time": "2021-08-28T12:54:50.532Z"
   },
   {
    "duration": 85,
    "start_time": "2021-08-28T12:54:50.618Z"
   },
   {
    "duration": 90,
    "start_time": "2021-08-28T12:54:50.705Z"
   },
   {
    "duration": 82,
    "start_time": "2021-08-28T12:54:50.797Z"
   },
   {
    "duration": 76,
    "start_time": "2021-08-28T12:54:50.880Z"
   },
   {
    "duration": 80,
    "start_time": "2021-08-28T12:54:50.958Z"
   },
   {
    "duration": 78,
    "start_time": "2021-08-28T12:54:51.040Z"
   },
   {
    "duration": 701,
    "start_time": "2021-09-01T12:24:21.101Z"
   },
   {
    "duration": 32,
    "start_time": "2021-09-01T12:24:21.804Z"
   },
   {
    "duration": 44,
    "start_time": "2021-09-01T12:24:21.838Z"
   },
   {
    "duration": 11,
    "start_time": "2021-09-01T12:24:21.884Z"
   },
   {
    "duration": 17,
    "start_time": "2021-09-01T12:24:21.896Z"
   },
   {
    "duration": 4,
    "start_time": "2021-09-01T12:24:21.915Z"
   },
   {
    "duration": 11,
    "start_time": "2021-09-01T12:24:21.921Z"
   },
   {
    "duration": 5,
    "start_time": "2021-09-01T12:24:21.935Z"
   },
   {
    "duration": 43,
    "start_time": "2021-09-01T12:24:21.942Z"
   },
   {
    "duration": 13,
    "start_time": "2021-09-01T12:24:21.986Z"
   },
   {
    "duration": 10,
    "start_time": "2021-09-01T12:24:22.001Z"
   },
   {
    "duration": 12,
    "start_time": "2021-09-01T12:24:22.013Z"
   },
   {
    "duration": 22,
    "start_time": "2021-09-01T12:24:22.027Z"
   },
   {
    "duration": 26,
    "start_time": "2021-09-01T12:24:22.050Z"
   },
   {
    "duration": 12,
    "start_time": "2021-09-01T12:24:22.078Z"
   },
   {
    "duration": 8,
    "start_time": "2021-09-01T12:24:22.092Z"
   },
   {
    "duration": 7,
    "start_time": "2021-09-01T12:24:22.102Z"
   },
   {
    "duration": 14,
    "start_time": "2021-09-01T12:24:22.110Z"
   },
   {
    "duration": 13,
    "start_time": "2021-09-01T12:24:22.126Z"
   },
   {
    "duration": 40,
    "start_time": "2021-09-01T12:24:22.141Z"
   },
   {
    "duration": 11,
    "start_time": "2021-09-01T12:24:22.183Z"
   },
   {
    "duration": 28,
    "start_time": "2021-09-01T12:24:22.196Z"
   },
   {
    "duration": 13,
    "start_time": "2021-09-01T12:24:22.228Z"
   },
   {
    "duration": 37,
    "start_time": "2021-09-01T12:24:22.244Z"
   },
   {
    "duration": 21,
    "start_time": "2021-09-01T12:24:22.283Z"
   },
   {
    "duration": 12,
    "start_time": "2021-09-01T12:24:22.306Z"
   },
   {
    "duration": 24,
    "start_time": "2021-09-01T12:24:22.320Z"
   },
   {
    "duration": 44,
    "start_time": "2021-09-01T12:24:22.346Z"
   },
   {
    "duration": 14,
    "start_time": "2021-09-01T12:24:22.392Z"
   },
   {
    "duration": 14,
    "start_time": "2021-09-01T12:24:22.408Z"
   },
   {
    "duration": 16,
    "start_time": "2021-09-01T12:24:22.424Z"
   },
   {
    "duration": 15,
    "start_time": "2021-09-01T12:24:22.442Z"
   },
   {
    "duration": 17,
    "start_time": "2021-09-01T12:34:03.590Z"
   },
   {
    "duration": 16,
    "start_time": "2021-09-01T12:34:36.530Z"
   },
   {
    "duration": 12,
    "start_time": "2021-09-01T12:34:48.190Z"
   },
   {
    "duration": 837,
    "start_time": "2021-10-28T13:46:16.443Z"
   },
   {
    "duration": 54,
    "start_time": "2021-10-28T13:46:17.288Z"
   },
   {
    "duration": 524,
    "start_time": "2021-10-28T13:46:17.345Z"
   },
   {
    "duration": -1058116,
    "start_time": "2021-10-28T14:03:55.990Z"
   },
   {
    "duration": -1058127,
    "start_time": "2021-10-28T14:03:56.002Z"
   },
   {
    "duration": -1058137,
    "start_time": "2021-10-28T14:03:56.014Z"
   },
   {
    "duration": -1058143,
    "start_time": "2021-10-28T14:03:56.021Z"
   },
   {
    "duration": -1058159,
    "start_time": "2021-10-28T14:03:56.039Z"
   },
   {
    "duration": -1058169,
    "start_time": "2021-10-28T14:03:56.050Z"
   },
   {
    "duration": -1058175,
    "start_time": "2021-10-28T14:03:56.058Z"
   },
   {
    "duration": -1058180,
    "start_time": "2021-10-28T14:03:56.065Z"
   },
   {
    "duration": -1058184,
    "start_time": "2021-10-28T14:03:56.070Z"
   },
   {
    "duration": -1058193,
    "start_time": "2021-10-28T14:03:56.081Z"
   },
   {
    "duration": -1058198,
    "start_time": "2021-10-28T14:03:56.088Z"
   },
   {
    "duration": -1058204,
    "start_time": "2021-10-28T14:03:56.096Z"
   },
   {
    "duration": -1058207,
    "start_time": "2021-10-28T14:03:56.101Z"
   },
   {
    "duration": -1058210,
    "start_time": "2021-10-28T14:03:56.106Z"
   },
   {
    "duration": -1058255,
    "start_time": "2021-10-28T14:03:56.153Z"
   },
   {
    "duration": -1058268,
    "start_time": "2021-10-28T14:03:56.168Z"
   },
   {
    "duration": -1058280,
    "start_time": "2021-10-28T14:03:56.182Z"
   },
   {
    "duration": -1058288,
    "start_time": "2021-10-28T14:03:56.192Z"
   },
   {
    "duration": -1058296,
    "start_time": "2021-10-28T14:03:56.201Z"
   },
   {
    "duration": -1058302,
    "start_time": "2021-10-28T14:03:56.209Z"
   },
   {
    "duration": -1058310,
    "start_time": "2021-10-28T14:03:56.219Z"
   },
   {
    "duration": -1058316,
    "start_time": "2021-10-28T14:03:56.227Z"
   },
   {
    "duration": -1058318,
    "start_time": "2021-10-28T14:03:56.230Z"
   },
   {
    "duration": -1058321,
    "start_time": "2021-10-28T14:03:56.234Z"
   },
   {
    "duration": -1058330,
    "start_time": "2021-10-28T14:03:56.245Z"
   },
   {
    "duration": -1058332,
    "start_time": "2021-10-28T14:03:56.249Z"
   },
   {
    "duration": -1058340,
    "start_time": "2021-10-28T14:03:56.258Z"
   },
   {
    "duration": -1058347,
    "start_time": "2021-10-28T14:03:56.267Z"
   },
   {
    "duration": -1058360,
    "start_time": "2021-10-28T14:03:56.282Z"
   },
   {
    "duration": -1058369,
    "start_time": "2021-10-28T14:03:56.292Z"
   },
   {
    "duration": 395,
    "start_time": "2021-10-28T13:46:35.532Z"
   },
   {
    "duration": 32,
    "start_time": "2021-10-28T13:46:54.232Z"
   },
   {
    "duration": 16,
    "start_time": "2021-10-28T13:53:04.814Z"
   },
   {
    "duration": 25,
    "start_time": "2021-10-28T13:53:07.826Z"
   },
   {
    "duration": 8,
    "start_time": "2021-10-28T13:53:23.488Z"
   },
   {
    "duration": 12,
    "start_time": "2021-10-28T13:53:26.410Z"
   },
   {
    "duration": 10,
    "start_time": "2021-10-28T13:53:29.832Z"
   },
   {
    "duration": 21,
    "start_time": "2021-10-28T13:53:33.660Z"
   },
   {
    "duration": 15,
    "start_time": "2021-10-28T14:26:07.570Z"
   },
   {
    "duration": 14,
    "start_time": "2021-10-28T14:27:39.039Z"
   },
   {
    "duration": 18,
    "start_time": "2021-10-28T14:29:32.533Z"
   },
   {
    "duration": 932,
    "start_time": "2021-10-28T14:40:13.362Z"
   },
   {
    "duration": 37,
    "start_time": "2021-10-28T14:40:14.297Z"
   },
   {
    "duration": 49,
    "start_time": "2021-10-28T14:40:14.337Z"
   },
   {
    "duration": 16,
    "start_time": "2021-10-28T14:40:14.389Z"
   },
   {
    "duration": 22,
    "start_time": "2021-10-28T14:40:14.408Z"
   },
   {
    "duration": 5,
    "start_time": "2021-10-28T14:40:14.432Z"
   },
   {
    "duration": 19,
    "start_time": "2021-10-28T14:40:14.440Z"
   },
   {
    "duration": 40,
    "start_time": "2021-10-28T14:40:14.462Z"
   },
   {
    "duration": 20,
    "start_time": "2021-10-28T14:40:14.505Z"
   },
   {
    "duration": 14,
    "start_time": "2021-10-28T14:40:14.527Z"
   },
   {
    "duration": 12,
    "start_time": "2021-10-28T14:40:14.543Z"
   },
   {
    "duration": 48,
    "start_time": "2021-10-28T14:40:14.557Z"
   },
   {
    "duration": 17,
    "start_time": "2021-10-28T14:40:14.608Z"
   },
   {
    "duration": 13,
    "start_time": "2021-10-28T14:40:14.628Z"
   },
   {
    "duration": 19,
    "start_time": "2021-10-28T14:40:14.643Z"
   },
   {
    "duration": 40,
    "start_time": "2021-10-28T14:40:14.665Z"
   },
   {
    "duration": 8,
    "start_time": "2021-10-28T14:40:14.708Z"
   },
   {
    "duration": 16,
    "start_time": "2021-10-28T14:40:14.718Z"
   },
   {
    "duration": 18,
    "start_time": "2021-10-28T14:40:14.737Z"
   },
   {
    "duration": 45,
    "start_time": "2021-10-28T14:40:14.757Z"
   },
   {
    "duration": 14,
    "start_time": "2021-10-28T14:40:14.805Z"
   },
   {
    "duration": 38,
    "start_time": "2021-10-28T14:40:14.823Z"
   },
   {
    "duration": 42,
    "start_time": "2021-10-28T14:40:14.863Z"
   },
   {
    "duration": 12,
    "start_time": "2021-10-28T14:40:14.908Z"
   },
   {
    "duration": 24,
    "start_time": "2021-10-28T14:40:14.923Z"
   },
   {
    "duration": 12,
    "start_time": "2021-10-28T14:40:14.950Z"
   },
   {
    "duration": 82,
    "start_time": "2021-10-28T14:40:14.964Z"
   },
   {
    "duration": 33,
    "start_time": "2021-10-28T14:40:15.049Z"
   },
   {
    "duration": 16,
    "start_time": "2021-10-28T14:40:15.085Z"
   },
   {
    "duration": 15,
    "start_time": "2021-10-28T14:40:15.104Z"
   },
   {
    "duration": 19,
    "start_time": "2021-10-28T14:40:15.122Z"
   },
   {
    "duration": 15,
    "start_time": "2021-10-28T14:40:15.144Z"
   }
  ],
  "kernelspec": {
   "display_name": "Python 3",
   "language": "python",
   "name": "python3"
  },
  "language_info": {
   "codemirror_mode": {
    "name": "ipython",
    "version": 3
   },
   "file_extension": ".py",
   "mimetype": "text/x-python",
   "name": "python",
   "nbconvert_exporter": "python",
   "pygments_lexer": "ipython3",
   "version": "3.8.8"
  },
  "toc": {
   "base_numbering": 1,
   "nav_menu": {},
   "number_sections": true,
   "sideBar": true,
   "skip_h1_title": true,
   "title_cell": "Requests to Books subscription service databases",
   "title_sidebar": "Contents",
   "toc_cell": true,
   "toc_position": {
    "height": "calc(100% - 180px)",
    "left": "10px",
    "top": "150px",
    "width": "165px"
   },
   "toc_section_display": true,
   "toc_window_display": true
  }
 },
 "nbformat": 4,
 "nbformat_minor": 2
}
